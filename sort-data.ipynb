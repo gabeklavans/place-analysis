{
 "cells": [
  {
   "cell_type": "code",
   "execution_count": 3,
   "metadata": {},
   "outputs": [
    {
     "ename": "ImportError",
     "evalue": "cannot import name 'soft_unicode' from 'markupsafe' (d:\\code\\place\\env\\lib\\site-packages\\markupsafe\\__init__.py)",
     "output_type": "error",
     "traceback": [
      "\u001b[1;31m---------------------------------------------------------------------------\u001b[0m",
      "\u001b[1;31mImportError\u001b[0m                               Traceback (most recent call last)",
      "\u001b[1;32md:\\code\\place\\sort-data.ipynb Cell 1'\u001b[0m in \u001b[0;36m<cell line: 8>\u001b[1;34m()\u001b[0m\n\u001b[0;32m      <a href='vscode-notebook-cell:/d%3A/code/place/sort-data.ipynb#ch0000000?line=5'>6</a>\u001b[0m \u001b[39mimport\u001b[39;00m \u001b[39mio\u001b[39;00m\n\u001b[0;32m      <a href='vscode-notebook-cell:/d%3A/code/place/sort-data.ipynb#ch0000000?line=6'>7</a>\u001b[0m \u001b[39mimport\u001b[39;00m \u001b[39mlogging\u001b[39;00m\n\u001b[1;32m----> <a href='vscode-notebook-cell:/d%3A/code/place/sort-data.ipynb#ch0000000?line=7'>8</a>\u001b[0m \u001b[39mfrom\u001b[39;00m \u001b[39mmarkupsafe\u001b[39;00m \u001b[39mimport\u001b[39;00m soft_unicode\n",
      "\u001b[1;31mImportError\u001b[0m: cannot import name 'soft_unicode' from 'markupsafe' (d:\\code\\place\\env\\lib\\site-packages\\markupsafe\\__init__.py)"
     ]
    }
   ],
   "source": [
    "import pandas as pd\n",
    "import dask.dataframe as dd\n",
    "\n",
    "import ext_sort as es\n",
    "import csv\n",
    "import io\n",
    "import logging"
   ]
  },
  {
   "cell_type": "code",
   "execution_count": 2,
   "metadata": {},
   "outputs": [
    {
     "ename": "ImportError",
     "evalue": "Dask diagnostics requirements are not installed.\n\nPlease either conda or pip install as follows:\n\n  conda install dask                     # either conda install\n  python -m pip install \"dask[diagnostics]\" --upgrade  # or python -m pip install",
     "output_type": "error",
     "traceback": [
      "\u001b[1;31m---------------------------------------------------------------------------\u001b[0m",
      "\u001b[1;31mImportError\u001b[0m                               Traceback (most recent call last)",
      "File \u001b[1;32md:\\code\\place\\env\\lib\\site-packages\\dask\\widgets\\__init__.py:2\u001b[0m, in \u001b[0;36m<module>\u001b[1;34m\u001b[0m\n\u001b[0;32m      <a href='file:///d%3A/code/place/env/lib/site-packages/dask/widgets/__init__.py?line=0'>1</a>\u001b[0m \u001b[39mtry\u001b[39;00m:\n\u001b[1;32m----> <a href='file:///d%3A/code/place/env/lib/site-packages/dask/widgets/__init__.py?line=1'>2</a>\u001b[0m     \u001b[39mfrom\u001b[39;00m \u001b[39mdask\u001b[39;00m\u001b[39m.\u001b[39;00m\u001b[39mwidgets\u001b[39;00m\u001b[39m.\u001b[39;00m\u001b[39mwidgets\u001b[39;00m \u001b[39mimport\u001b[39;00m (\n\u001b[0;32m      <a href='file:///d%3A/code/place/env/lib/site-packages/dask/widgets/__init__.py?line=2'>3</a>\u001b[0m         FILTERS,\n\u001b[0;32m      <a href='file:///d%3A/code/place/env/lib/site-packages/dask/widgets/__init__.py?line=3'>4</a>\u001b[0m         TEMPLATE_PATHS,\n\u001b[0;32m      <a href='file:///d%3A/code/place/env/lib/site-packages/dask/widgets/__init__.py?line=4'>5</a>\u001b[0m         get_environment,\n\u001b[0;32m      <a href='file:///d%3A/code/place/env/lib/site-packages/dask/widgets/__init__.py?line=5'>6</a>\u001b[0m         get_template,\n\u001b[0;32m      <a href='file:///d%3A/code/place/env/lib/site-packages/dask/widgets/__init__.py?line=6'>7</a>\u001b[0m     )\n\u001b[0;32m      <a href='file:///d%3A/code/place/env/lib/site-packages/dask/widgets/__init__.py?line=8'>9</a>\u001b[0m \u001b[39mexcept\u001b[39;00m \u001b[39mImportError\u001b[39;00m \u001b[39mas\u001b[39;00m e:\n",
      "File \u001b[1;32md:\\code\\place\\env\\lib\\site-packages\\dask\\widgets\\widgets.py:5\u001b[0m, in \u001b[0;36m<module>\u001b[1;34m\u001b[0m\n\u001b[0;32m      <a href='file:///d%3A/code/place/env/lib/site-packages/dask/widgets/widgets.py?line=2'>3</a>\u001b[0m \u001b[39mimport\u001b[39;00m \u001b[39mos\u001b[39;00m\u001b[39m.\u001b[39;00m\u001b[39mpath\u001b[39;00m\n\u001b[1;32m----> <a href='file:///d%3A/code/place/env/lib/site-packages/dask/widgets/widgets.py?line=4'>5</a>\u001b[0m \u001b[39mfrom\u001b[39;00m \u001b[39mjinja2\u001b[39;00m \u001b[39mimport\u001b[39;00m Environment, FileSystemLoader, Template\n\u001b[0;32m      <a href='file:///d%3A/code/place/env/lib/site-packages/dask/widgets/widgets.py?line=5'>6</a>\u001b[0m \u001b[39mfrom\u001b[39;00m \u001b[39mjinja2\u001b[39;00m\u001b[39m.\u001b[39;00m\u001b[39mexceptions\u001b[39;00m \u001b[39mimport\u001b[39;00m TemplateNotFound\n",
      "File \u001b[1;32md:\\code\\place\\env\\lib\\site-packages\\jinja2\\__init__.py:12\u001b[0m, in \u001b[0;36m<module>\u001b[1;34m\u001b[0m\n\u001b[0;32m     <a href='file:///d%3A/code/place/env/lib/site-packages/jinja2/__init__.py?line=10'>11</a>\u001b[0m \u001b[39mfrom\u001b[39;00m \u001b[39m.\u001b[39;00m\u001b[39mbccache\u001b[39;00m \u001b[39mimport\u001b[39;00m MemcachedBytecodeCache\n\u001b[1;32m---> <a href='file:///d%3A/code/place/env/lib/site-packages/jinja2/__init__.py?line=11'>12</a>\u001b[0m \u001b[39mfrom\u001b[39;00m \u001b[39m.\u001b[39;00m\u001b[39menvironment\u001b[39;00m \u001b[39mimport\u001b[39;00m Environment\n\u001b[0;32m     <a href='file:///d%3A/code/place/env/lib/site-packages/jinja2/__init__.py?line=12'>13</a>\u001b[0m \u001b[39mfrom\u001b[39;00m \u001b[39m.\u001b[39;00m\u001b[39menvironment\u001b[39;00m \u001b[39mimport\u001b[39;00m Template\n",
      "File \u001b[1;32md:\\code\\place\\env\\lib\\site-packages\\jinja2\\environment.py:25\u001b[0m, in \u001b[0;36m<module>\u001b[1;34m\u001b[0m\n\u001b[0;32m     <a href='file:///d%3A/code/place/env/lib/site-packages/jinja2/environment.py?line=23'>24</a>\u001b[0m \u001b[39mfrom\u001b[39;00m \u001b[39m.\u001b[39;00m\u001b[39mcompiler\u001b[39;00m \u001b[39mimport\u001b[39;00m generate\n\u001b[1;32m---> <a href='file:///d%3A/code/place/env/lib/site-packages/jinja2/environment.py?line=24'>25</a>\u001b[0m \u001b[39mfrom\u001b[39;00m \u001b[39m.\u001b[39;00m\u001b[39mdefaults\u001b[39;00m \u001b[39mimport\u001b[39;00m BLOCK_END_STRING\n\u001b[0;32m     <a href='file:///d%3A/code/place/env/lib/site-packages/jinja2/environment.py?line=25'>26</a>\u001b[0m \u001b[39mfrom\u001b[39;00m \u001b[39m.\u001b[39;00m\u001b[39mdefaults\u001b[39;00m \u001b[39mimport\u001b[39;00m BLOCK_START_STRING\n",
      "File \u001b[1;32md:\\code\\place\\env\\lib\\site-packages\\jinja2\\defaults.py:3\u001b[0m, in \u001b[0;36m<module>\u001b[1;34m\u001b[0m\n\u001b[0;32m      <a href='file:///d%3A/code/place/env/lib/site-packages/jinja2/defaults.py?line=1'>2</a>\u001b[0m \u001b[39mfrom\u001b[39;00m \u001b[39m.\u001b[39;00m\u001b[39m_compat\u001b[39;00m \u001b[39mimport\u001b[39;00m range_type\n\u001b[1;32m----> <a href='file:///d%3A/code/place/env/lib/site-packages/jinja2/defaults.py?line=2'>3</a>\u001b[0m \u001b[39mfrom\u001b[39;00m \u001b[39m.\u001b[39;00m\u001b[39mfilters\u001b[39;00m \u001b[39mimport\u001b[39;00m FILTERS \u001b[39mas\u001b[39;00m DEFAULT_FILTERS  \u001b[39m# noqa: F401\u001b[39;00m\n\u001b[0;32m      <a href='file:///d%3A/code/place/env/lib/site-packages/jinja2/defaults.py?line=3'>4</a>\u001b[0m \u001b[39mfrom\u001b[39;00m \u001b[39m.\u001b[39;00m\u001b[39mtests\u001b[39;00m \u001b[39mimport\u001b[39;00m TESTS \u001b[39mas\u001b[39;00m DEFAULT_TESTS  \u001b[39m# noqa: F401\u001b[39;00m\n",
      "File \u001b[1;32md:\\code\\place\\env\\lib\\site-packages\\jinja2\\filters.py:13\u001b[0m, in \u001b[0;36m<module>\u001b[1;34m\u001b[0m\n\u001b[0;32m     <a href='file:///d%3A/code/place/env/lib/site-packages/jinja2/filters.py?line=11'>12</a>\u001b[0m \u001b[39mfrom\u001b[39;00m \u001b[39mmarkupsafe\u001b[39;00m \u001b[39mimport\u001b[39;00m Markup\n\u001b[1;32m---> <a href='file:///d%3A/code/place/env/lib/site-packages/jinja2/filters.py?line=12'>13</a>\u001b[0m \u001b[39mfrom\u001b[39;00m \u001b[39mmarkupsafe\u001b[39;00m \u001b[39mimport\u001b[39;00m soft_unicode\n\u001b[0;32m     <a href='file:///d%3A/code/place/env/lib/site-packages/jinja2/filters.py?line=14'>15</a>\u001b[0m \u001b[39mfrom\u001b[39;00m \u001b[39m.\u001b[39;00m\u001b[39m_compat\u001b[39;00m \u001b[39mimport\u001b[39;00m abc\n",
      "\u001b[1;31mImportError\u001b[0m: cannot import name 'soft_unicode' from 'markupsafe' (d:\\code\\place\\env\\lib\\site-packages\\markupsafe\\__init__.py)",
      "\nThe above exception was the direct cause of the following exception:\n",
      "\u001b[1;31mImportError\u001b[0m                               Traceback (most recent call last)",
      "File \u001b[1;32md:\\code\\place\\env\\lib\\site-packages\\IPython\\core\\formatters.py:343\u001b[0m, in \u001b[0;36mBaseFormatter.__call__\u001b[1;34m(self, obj)\u001b[0m\n\u001b[0;32m    <a href='file:///d%3A/code/place/env/lib/site-packages/IPython/core/formatters.py?line=340'>341</a>\u001b[0m     method \u001b[39m=\u001b[39m get_real_method(obj, \u001b[39mself\u001b[39m\u001b[39m.\u001b[39mprint_method)\n\u001b[0;32m    <a href='file:///d%3A/code/place/env/lib/site-packages/IPython/core/formatters.py?line=341'>342</a>\u001b[0m     \u001b[39mif\u001b[39;00m method \u001b[39mis\u001b[39;00m \u001b[39mnot\u001b[39;00m \u001b[39mNone\u001b[39;00m:\n\u001b[1;32m--> <a href='file:///d%3A/code/place/env/lib/site-packages/IPython/core/formatters.py?line=342'>343</a>\u001b[0m         \u001b[39mreturn\u001b[39;00m method()\n\u001b[0;32m    <a href='file:///d%3A/code/place/env/lib/site-packages/IPython/core/formatters.py?line=343'>344</a>\u001b[0m     \u001b[39mreturn\u001b[39;00m \u001b[39mNone\u001b[39;00m\n\u001b[0;32m    <a href='file:///d%3A/code/place/env/lib/site-packages/IPython/core/formatters.py?line=344'>345</a>\u001b[0m \u001b[39melse\u001b[39;00m:\n",
      "File \u001b[1;32md:\\code\\place\\env\\lib\\site-packages\\dask\\dataframe\\core.py:5623\u001b[0m, in \u001b[0;36mDataFrame._repr_html_\u001b[1;34m(self)\u001b[0m\n\u001b[0;32m   <a href='file:///d%3A/code/place/env/lib/site-packages/dask/dataframe/core.py?line=5618'>5619</a>\u001b[0m \u001b[39mdef\u001b[39;00m \u001b[39m_repr_html_\u001b[39m(\u001b[39mself\u001b[39m):\n\u001b[0;32m   <a href='file:///d%3A/code/place/env/lib/site-packages/dask/dataframe/core.py?line=5619'>5620</a>\u001b[0m     data \u001b[39m=\u001b[39m \u001b[39mself\u001b[39m\u001b[39m.\u001b[39m_repr_data()\u001b[39m.\u001b[39mto_html(\n\u001b[0;32m   <a href='file:///d%3A/code/place/env/lib/site-packages/dask/dataframe/core.py?line=5620'>5621</a>\u001b[0m         max_rows\u001b[39m=\u001b[39m\u001b[39m5\u001b[39m, show_dimensions\u001b[39m=\u001b[39m\u001b[39mFalse\u001b[39;00m, notebook\u001b[39m=\u001b[39m\u001b[39mTrue\u001b[39;00m\n\u001b[0;32m   <a href='file:///d%3A/code/place/env/lib/site-packages/dask/dataframe/core.py?line=5621'>5622</a>\u001b[0m     )\n\u001b[1;32m-> <a href='file:///d%3A/code/place/env/lib/site-packages/dask/dataframe/core.py?line=5622'>5623</a>\u001b[0m     \u001b[39mreturn\u001b[39;00m get_template(\u001b[39m\"\u001b[39;49m\u001b[39mdataframe.html.j2\u001b[39;49m\u001b[39m\"\u001b[39;49m)\u001b[39m.\u001b[39mrender(\n\u001b[0;32m   <a href='file:///d%3A/code/place/env/lib/site-packages/dask/dataframe/core.py?line=5623'>5624</a>\u001b[0m         data\u001b[39m=\u001b[39mdata, name\u001b[39m=\u001b[39m\u001b[39mself\u001b[39m\u001b[39m.\u001b[39m_name, task\u001b[39m=\u001b[39m\u001b[39mself\u001b[39m\u001b[39m.\u001b[39mdask\n\u001b[0;32m   <a href='file:///d%3A/code/place/env/lib/site-packages/dask/dataframe/core.py?line=5624'>5625</a>\u001b[0m     )\n",
      "File \u001b[1;32md:\\code\\place\\env\\lib\\site-packages\\dask\\widgets\\__init__.py:24\u001b[0m, in \u001b[0;36mget_template\u001b[1;34m(name)\u001b[0m\n\u001b[0;32m     <a href='file:///d%3A/code/place/env/lib/site-packages/dask/widgets/__init__.py?line=22'>23</a>\u001b[0m \u001b[39mdef\u001b[39;00m \u001b[39mget_template\u001b[39m(name: \u001b[39mstr\u001b[39m):\n\u001b[1;32m---> <a href='file:///d%3A/code/place/env/lib/site-packages/dask/widgets/__init__.py?line=23'>24</a>\u001b[0m     \u001b[39mraise\u001b[39;00m \u001b[39mImportError\u001b[39;00m(msg) \u001b[39mfrom\u001b[39;00m \u001b[39mexception\u001b[39;00m\n",
      "\u001b[1;31mImportError\u001b[0m: Dask diagnostics requirements are not installed.\n\nPlease either conda or pip install as follows:\n\n  conda install dask                     # either conda install\n  python -m pip install \"dask[diagnostics]\" --upgrade  # or python -m pip install"
     ]
    },
    {
     "data": {
      "text/plain": [
       "Dask DataFrame Structure:\n",
       "                            user_id pixel_color coordinate\n",
       "npartitions=341                                           \n",
       "2022-04-01 12:44:10.315 UTC  object      object     object\n",
       "2022-04-01 13:54:30.719 UTC     ...         ...        ...\n",
       "...                             ...         ...        ...\n",
       "2022-04-04 23:55:36.388 UTC     ...         ...        ...\n",
       "2022-04-05 00:14:00.207 UTC     ...         ...        ...\n",
       "Dask Name: fix-overlap, 1023 tasks"
      ]
     },
     "execution_count": 2,
     "metadata": {},
     "output_type": "execute_result"
    }
   ],
   "source": [
    "filepath = \"data/2022_place_history_sorted_again.csv\"\n",
    "\n",
    "ddf = dd.read_csv(filepath)\n"
   ]
  },
  {
   "cell_type": "code",
   "execution_count": 37,
   "metadata": {},
   "outputs": [],
   "source": [
    "# for i in range(10, 79):\n",
    "#     urllib.request.urlretrieve(f\"https://placedata.reddit.com/data/canvas-history/2022_place_canvas_history-0000000000{i}.csv.gzip\", f\"data/{i}.csv.gzip\")"
   ]
  },
  {
   "cell_type": "code",
   "execution_count": 38,
   "metadata": {},
   "outputs": [],
   "source": [
    "# with open(\"data/2022_place_history_sorted.csv\", 'w') as result:\n",
    "#     for i in range(0, 79):\n",
    "#         with open(f\"data/chunks/{i}.csv\") as f:\n",
    "#             if i > 0:\n",
    "#                 f.readline();\n",
    "#             result.write(f.read())"
   ]
  },
  {
   "cell_type": "code",
   "execution_count": 5,
   "metadata": {},
   "outputs": [],
   "source": [
    "# for i in range(0, 79):\n",
    "#     ddf = dd.read_csv(f\"data/chunks/{i}.csv\")\n",
    "#     ddf.set_index('timestamp')\n",
    "#     ddf.to_csv(f\"data/sorted-chunks/{i}.csv\", single_file=True)\n",
    "#     print(f\"saved file {i}/78\", end=\"\", flush=True)\n"
   ]
  },
  {
   "cell_type": "code",
   "execution_count": null,
   "metadata": {},
   "outputs": [],
   "source": []
  }
 ],
 "metadata": {
  "interpreter": {
   "hash": "89de5ec334dfe115ce73491219555bfbfca3ffdc9cd8a93ff8db63b215712dbe"
  },
  "kernelspec": {
   "display_name": "Python 3.10.1 ('env': venv)",
   "language": "python",
   "name": "python3"
  },
  "language_info": {
   "codemirror_mode": {
    "name": "ipython",
    "version": 3
   },
   "file_extension": ".py",
   "mimetype": "text/x-python",
   "name": "python",
   "nbconvert_exporter": "python",
   "pygments_lexer": "ipython3",
   "version": "3.10.1"
  },
  "orig_nbformat": 4
 },
 "nbformat": 4,
 "nbformat_minor": 2
}
