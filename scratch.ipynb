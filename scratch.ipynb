{
 "cells": [
  {
   "cell_type": "code",
   "execution_count": 1,
   "metadata": {},
   "outputs": [],
   "source": [
    "import pandas as pd"
   ]
  },
  {
   "cell_type": "code",
   "execution_count": 7,
   "metadata": {},
   "outputs": [],
   "source": [
    "chunksize = 10 ** 5\n",
    "filename = \"data/2022_place_canvas_history.csv\"\n",
    "tfr = pd.read_csv(filename, chunksize=chunksize, parse_dates=[\"timestamp\"], infer_datetime_format=True, dtype={\"coordinate\": \"str\"})"
   ]
  },
  {
   "cell_type": "code",
   "execution_count": 8,
   "metadata": {},
   "outputs": [
    {
     "name": "stdout",
     "output_type": "stream",
     "text": [
      "<class 'pandas.core.frame.DataFrame'>\n",
      "RangeIndex: 100000 entries, 0 to 99999\n",
      "Data columns (total 4 columns):\n",
      " #   Column       Non-Null Count   Dtype              \n",
      "---  ------       --------------   -----              \n",
      " 0   timestamp    100000 non-null  datetime64[ns, UTC]\n",
      " 1   user_id      100000 non-null  object             \n",
      " 2   pixel_color  100000 non-null  object             \n",
      " 3   coordinate   100000 non-null  object             \n",
      "dtypes: datetime64[ns, UTC](1), object(3)\n",
      "memory usage: 3.1+ MB\n"
     ]
    }
   ],
   "source": [
    "tfr.get_chunk().info()"
   ]
  },
  {
   "cell_type": "code",
   "execution_count": 32,
   "metadata": {},
   "outputs": [
    {
     "data": {
      "text/html": [
       "<div>\n",
       "<style scoped>\n",
       "    .dataframe tbody tr th:only-of-type {\n",
       "        vertical-align: middle;\n",
       "    }\n",
       "\n",
       "    .dataframe tbody tr th {\n",
       "        vertical-align: top;\n",
       "    }\n",
       "\n",
       "    .dataframe thead th {\n",
       "        text-align: right;\n",
       "    }\n",
       "</style>\n",
       "<table border=\"1\" class=\"dataframe\">\n",
       "  <thead>\n",
       "    <tr style=\"text-align: right;\">\n",
       "      <th></th>\n",
       "      <th>timestamp</th>\n",
       "      <th>user_id</th>\n",
       "      <th>pixel_color</th>\n",
       "      <th>coordinate</th>\n",
       "      <th>x</th>\n",
       "      <th>y</th>\n",
       "    </tr>\n",
       "  </thead>\n",
       "  <tbody>\n",
       "    <tr>\n",
       "      <th>2300000</th>\n",
       "      <td>2022-04-01 13:49:00.060000+00:00</td>\n",
       "      <td>LJjgJ07NlGP4U3Le6GNcjPrwyEbE8CSX+ALrBlz+tVv2mN...</td>\n",
       "      <td>#2450A4</td>\n",
       "      <td>335,181</td>\n",
       "      <td>335</td>\n",
       "      <td>181</td>\n",
       "    </tr>\n",
       "    <tr>\n",
       "      <th>2300001</th>\n",
       "      <td>2022-04-01 13:49:00.064000+00:00</td>\n",
       "      <td>EN3KZs/LnBBwKU0dwCsgowI7GZFz1kB+64VQ2SSE6rCWdj...</td>\n",
       "      <td>#FF99AA</td>\n",
       "      <td>771,457</td>\n",
       "      <td>771</td>\n",
       "      <td>457</td>\n",
       "    </tr>\n",
       "    <tr>\n",
       "      <th>2300002</th>\n",
       "      <td>2022-04-01 13:49:00.065000+00:00</td>\n",
       "      <td>OC+nyfmBuWCKlwWwOOiKVdmJan+Xiz6NRtOsMLEOUtqy7R...</td>\n",
       "      <td>#2450A4</td>\n",
       "      <td>273,175</td>\n",
       "      <td>273</td>\n",
       "      <td>175</td>\n",
       "    </tr>\n",
       "    <tr>\n",
       "      <th>2300003</th>\n",
       "      <td>2022-04-01 13:49:00.088000+00:00</td>\n",
       "      <td>NMx7drHuzWh2OC/vwK9G5S2Kfscog/azF+FFqNgRfBOurf...</td>\n",
       "      <td>#00A368</td>\n",
       "      <td>809,199</td>\n",
       "      <td>809</td>\n",
       "      <td>199</td>\n",
       "    </tr>\n",
       "    <tr>\n",
       "      <th>2300004</th>\n",
       "      <td>2022-04-01 13:49:00.088000+00:00</td>\n",
       "      <td>+/xeJ7iDEXqAPLB0IYi1eBqKhMir/oADZOUXtPCZd4NL9E...</td>\n",
       "      <td>#FFD635</td>\n",
       "      <td>180,222</td>\n",
       "      <td>180</td>\n",
       "      <td>222</td>\n",
       "    </tr>\n",
       "    <tr>\n",
       "      <th>...</th>\n",
       "      <td>...</td>\n",
       "      <td>...</td>\n",
       "      <td>...</td>\n",
       "      <td>...</td>\n",
       "      <td>...</td>\n",
       "      <td>...</td>\n",
       "    </tr>\n",
       "    <tr>\n",
       "      <th>2399995</th>\n",
       "      <td>2022-04-01 13:56:26.325000+00:00</td>\n",
       "      <td>5fZveTar6en1aoR4tuPeS4eNQUPT1yOfsYFG6eNT8k1n2k...</td>\n",
       "      <td>#FF4500</td>\n",
       "      <td>397,397</td>\n",
       "      <td>397</td>\n",
       "      <td>397</td>\n",
       "    </tr>\n",
       "    <tr>\n",
       "      <th>2399996</th>\n",
       "      <td>2022-04-01 13:56:26.329000+00:00</td>\n",
       "      <td>njEU82hUHbSjCPanSY/BiW5akd8htK6jFejIJ9pJjvenjL...</td>\n",
       "      <td>#898D90</td>\n",
       "      <td>492,977</td>\n",
       "      <td>492</td>\n",
       "      <td>977</td>\n",
       "    </tr>\n",
       "    <tr>\n",
       "      <th>2399997</th>\n",
       "      <td>2022-04-01 13:56:26.330000+00:00</td>\n",
       "      <td>NdbSVmDCdIAyIUnZ2I4OtX33CVh+G/8lTgXU8S1c6bcXT5...</td>\n",
       "      <td>#898D90</td>\n",
       "      <td>860,539</td>\n",
       "      <td>860</td>\n",
       "      <td>539</td>\n",
       "    </tr>\n",
       "    <tr>\n",
       "      <th>2399998</th>\n",
       "      <td>2022-04-01 13:56:26.332000+00:00</td>\n",
       "      <td>mN+d8C6SG5UsReQTX7cKAfwo+EPa5i2j7XvRSyZ/tgiQct...</td>\n",
       "      <td>#2450A4</td>\n",
       "      <td>515,113</td>\n",
       "      <td>515</td>\n",
       "      <td>113</td>\n",
       "    </tr>\n",
       "    <tr>\n",
       "      <th>2399999</th>\n",
       "      <td>2022-04-01 13:56:26.333000+00:00</td>\n",
       "      <td>Urjwde/2ASxoMVarlucUdMqR+BLlUBPW6Fd05yjJuqWnrm...</td>\n",
       "      <td>#FFA800</td>\n",
       "      <td>485,295</td>\n",
       "      <td>485</td>\n",
       "      <td>295</td>\n",
       "    </tr>\n",
       "  </tbody>\n",
       "</table>\n",
       "<p>100000 rows × 6 columns</p>\n",
       "</div>"
      ],
      "text/plain": [
       "                               timestamp  \\\n",
       "2300000 2022-04-01 13:49:00.060000+00:00   \n",
       "2300001 2022-04-01 13:49:00.064000+00:00   \n",
       "2300002 2022-04-01 13:49:00.065000+00:00   \n",
       "2300003 2022-04-01 13:49:00.088000+00:00   \n",
       "2300004 2022-04-01 13:49:00.088000+00:00   \n",
       "...                                  ...   \n",
       "2399995 2022-04-01 13:56:26.325000+00:00   \n",
       "2399996 2022-04-01 13:56:26.329000+00:00   \n",
       "2399997 2022-04-01 13:56:26.330000+00:00   \n",
       "2399998 2022-04-01 13:56:26.332000+00:00   \n",
       "2399999 2022-04-01 13:56:26.333000+00:00   \n",
       "\n",
       "                                                   user_id pixel_color  \\\n",
       "2300000  LJjgJ07NlGP4U3Le6GNcjPrwyEbE8CSX+ALrBlz+tVv2mN...     #2450A4   \n",
       "2300001  EN3KZs/LnBBwKU0dwCsgowI7GZFz1kB+64VQ2SSE6rCWdj...     #FF99AA   \n",
       "2300002  OC+nyfmBuWCKlwWwOOiKVdmJan+Xiz6NRtOsMLEOUtqy7R...     #2450A4   \n",
       "2300003  NMx7drHuzWh2OC/vwK9G5S2Kfscog/azF+FFqNgRfBOurf...     #00A368   \n",
       "2300004  +/xeJ7iDEXqAPLB0IYi1eBqKhMir/oADZOUXtPCZd4NL9E...     #FFD635   \n",
       "...                                                    ...         ...   \n",
       "2399995  5fZveTar6en1aoR4tuPeS4eNQUPT1yOfsYFG6eNT8k1n2k...     #FF4500   \n",
       "2399996  njEU82hUHbSjCPanSY/BiW5akd8htK6jFejIJ9pJjvenjL...     #898D90   \n",
       "2399997  NdbSVmDCdIAyIUnZ2I4OtX33CVh+G/8lTgXU8S1c6bcXT5...     #898D90   \n",
       "2399998  mN+d8C6SG5UsReQTX7cKAfwo+EPa5i2j7XvRSyZ/tgiQct...     #2450A4   \n",
       "2399999  Urjwde/2ASxoMVarlucUdMqR+BLlUBPW6Fd05yjJuqWnrm...     #FFA800   \n",
       "\n",
       "        coordinate    x    y  \n",
       "2300000    335,181  335  181  \n",
       "2300001    771,457  771  457  \n",
       "2300002    273,175  273  175  \n",
       "2300003    809,199  809  199  \n",
       "2300004    180,222  180  222  \n",
       "...            ...  ...  ...  \n",
       "2399995    397,397  397  397  \n",
       "2399996    492,977  492  977  \n",
       "2399997    860,539  860  539  \n",
       "2399998    515,113  515  113  \n",
       "2399999    485,295  485  295  \n",
       "\n",
       "[100000 rows x 6 columns]"
      ]
     },
     "execution_count": 32,
     "metadata": {},
     "output_type": "execute_result"
    }
   ],
   "source": [
    "# add x and y cols\n",
    "df = tfr.get_chunk()\n",
    "x_and_y = df[\"coordinate\"].str.split(\",\", expand=True)\n",
    "x_and_y.columns = [\"x\", \"y\"]\n",
    "pd.merge(df, x_and_y, left_index=True, right_index=True, how=\"outer\")"
   ]
  },
  {
   "cell_type": "code",
   "execution_count": 4,
   "metadata": {},
   "outputs": [
    {
     "data": {
      "text/plain": [
       "zWhaupH3Fy5BNlS+peI3kjIcTXZJExETzFxkwojafRfWStqEWhAmiQgjC9PxDs1tuENo6n7WvkBWGqie0RK/qA==    2\n",
       "Name: user_id, dtype: int64"
      ]
     },
     "execution_count": 4,
     "metadata": {},
     "output_type": "execute_result"
    }
   ],
   "source": [
    "# chunk_max = []\n",
    "# for chunk in tfr:\n",
    "#     idx_max = chunk[\"user_id\"].value_counts().argmax()\n",
    "#     chunk_max.append(chunk[\"user_id\"].value_counts().iloc[[idx_max]])\n",
    "\n",
    "chunk = tfr.get_chunk()\n",
    "idx_max = chunk[\"user_id\"].value_counts().argmax()\n",
    "most_freq_user = chunk[\"user_id\"].value_counts().iloc[[idx_max]]\n",
    "most_freq_user"
   ]
  },
  {
   "cell_type": "code",
   "execution_count": null,
   "metadata": {},
   "outputs": [],
   "source": []
  }
 ],
 "metadata": {
  "interpreter": {
   "hash": "89de5ec334dfe115ce73491219555bfbfca3ffdc9cd8a93ff8db63b215712dbe"
  },
  "kernelspec": {
   "display_name": "Python 3.10.1 ('env': venv)",
   "language": "python",
   "name": "python3"
  },
  "language_info": {
   "codemirror_mode": {
    "name": "ipython",
    "version": 3
   },
   "file_extension": ".py",
   "mimetype": "text/x-python",
   "name": "python",
   "nbconvert_exporter": "python",
   "pygments_lexer": "ipython3",
   "version": "3.10.1"
  },
  "orig_nbformat": 4
 },
 "nbformat": 4,
 "nbformat_minor": 2
}
