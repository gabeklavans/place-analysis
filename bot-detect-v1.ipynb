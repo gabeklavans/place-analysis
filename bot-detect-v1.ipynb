{
 "cells": [
  {
   "cell_type": "code",
   "execution_count": 6,
   "metadata": {},
   "outputs": [],
   "source": [
    "import numpy as np\n",
    "import pandas as pd\n",
    "import dask.dataframe as dd\n",
    "\n",
    "import matplotlib.pyplot as plt\n",
    "\n",
    "import json"
   ]
  },
  {
   "cell_type": "code",
   "execution_count": 7,
   "metadata": {},
   "outputs": [
    {
     "data": {
      "text/html": [
       "<div><strong>Dask DataFrame Structure:</strong></div>\n",
       "<div>\n",
       "<style scoped>\n",
       "    .dataframe tbody tr th:only-of-type {\n",
       "        vertical-align: middle;\n",
       "    }\n",
       "\n",
       "    .dataframe tbody tr th {\n",
       "        vertical-align: top;\n",
       "    }\n",
       "\n",
       "    .dataframe thead th {\n",
       "        text-align: right;\n",
       "    }\n",
       "</style>\n",
       "<table border=\"1\" class=\"dataframe\">\n",
       "  <thead>\n",
       "    <tr style=\"text-align: right;\">\n",
       "      <th></th>\n",
       "      <th>timestamp</th>\n",
       "      <th>user_id</th>\n",
       "      <th>pixel_color</th>\n",
       "      <th>coordinate</th>\n",
       "    </tr>\n",
       "    <tr>\n",
       "      <th>npartitions=341</th>\n",
       "      <th></th>\n",
       "      <th></th>\n",
       "      <th></th>\n",
       "      <th></th>\n",
       "    </tr>\n",
       "  </thead>\n",
       "  <tbody>\n",
       "    <tr>\n",
       "      <th></th>\n",
       "      <td>object</td>\n",
       "      <td>object</td>\n",
       "      <td>object</td>\n",
       "      <td>object</td>\n",
       "    </tr>\n",
       "    <tr>\n",
       "      <th></th>\n",
       "      <td>...</td>\n",
       "      <td>...</td>\n",
       "      <td>...</td>\n",
       "      <td>...</td>\n",
       "    </tr>\n",
       "    <tr>\n",
       "      <th>...</th>\n",
       "      <td>...</td>\n",
       "      <td>...</td>\n",
       "      <td>...</td>\n",
       "      <td>...</td>\n",
       "    </tr>\n",
       "    <tr>\n",
       "      <th></th>\n",
       "      <td>...</td>\n",
       "      <td>...</td>\n",
       "      <td>...</td>\n",
       "      <td>...</td>\n",
       "    </tr>\n",
       "    <tr>\n",
       "      <th></th>\n",
       "      <td>...</td>\n",
       "      <td>...</td>\n",
       "      <td>...</td>\n",
       "      <td>...</td>\n",
       "    </tr>\n",
       "  </tbody>\n",
       "</table>\n",
       "</div>\n",
       "<div>Dask Name: read-csv, 341 tasks</div>"
      ],
      "text/plain": [
       "Dask DataFrame Structure:\n",
       "                timestamp user_id pixel_color coordinate\n",
       "npartitions=341                                         \n",
       "                   object  object      object     object\n",
       "                      ...     ...         ...        ...\n",
       "...                   ...     ...         ...        ...\n",
       "                      ...     ...         ...        ...\n",
       "                      ...     ...         ...        ...\n",
       "Dask Name: read-csv, 341 tasks"
      ]
     },
     "execution_count": 7,
     "metadata": {},
     "output_type": "execute_result"
    }
   ],
   "source": [
    "chunksize = 10 ** 4\n",
    "filepath = \"data/2022_place_history_sorted.csv\"\n",
    "\n",
    "ddf = dd.read_csv(filepath)\n",
    "ddf"
   ]
  },
  {
   "cell_type": "code",
   "execution_count": 8,
   "metadata": {},
   "outputs": [
    {
     "name": "stdout",
     "output_type": "stream",
     "text": [
      "<class 'pandas.core.frame.DataFrame'>\n",
      "RangeIndex: 469837 entries, 0 to 469836\n",
      "Data columns (total 4 columns):\n",
      " #   Column       Non-Null Count   Dtype              \n",
      "---  ------       --------------   -----              \n",
      " 0   timestamp    469837 non-null  datetime64[ns, UTC]\n",
      " 1   user_id      469837 non-null  object             \n",
      " 2   pixel_color  469837 non-null  object             \n",
      " 3   coordinate   469837 non-null  object             \n",
      "dtypes: datetime64[ns, UTC](1), object(3)\n",
      "memory usage: 14.3+ MB\n"
     ]
    }
   ],
   "source": [
    "part = ddf.partitions[-7]\n",
    "part[\"timestamp\"] = dd.to_datetime(part[\"timestamp\"])\n",
    "# part.sort_values(by=[\"timestamp\"], ascending=True)\n",
    "part.compute().info()"
   ]
  },
  {
   "cell_type": "code",
   "execution_count": 9,
   "metadata": {},
   "outputs": [],
   "source": [
    "timestamp_idx = 1\n",
    "user_id_idx = 2\n",
    "\n",
    "threshold = 0.2 # in seconds\n",
    "\n",
    "count_dict = {}\n",
    "variance_dict = {}\n",
    "time_since_dict = {}\n",
    "last_pixel_time_dict = {}\n",
    "\n",
    "for row in part.itertuples():\n",
    "    user_id = row[user_id_idx]\n",
    "    if user_id in last_pixel_time_dict.keys():\n",
    "        if user_id in time_since_dict.keys():\n",
    "            time_since_last_pixel = row[timestamp_idx] - last_pixel_time_dict[row[user_id_idx]]\n",
    "            variance = abs((time_since_dict[user_id] - time_since_last_pixel).total_seconds())\n",
    "            if variance < threshold:\n",
    "                if user_id not in count_dict.keys():\n",
    "                    count_dict[user_id] = 0\n",
    "                count_dict[user_id] += 1\n",
    "            else:\n",
    "                time_since_dict[user_id] = time_since_last_pixel\n",
    "        else:\n",
    "            time_since_dict[user_id] = row[timestamp_idx] - last_pixel_time_dict[user_id]\n",
    "    last_pixel_time_dict[user_id] = row[timestamp_idx]\n"
   ]
  },
  {
   "cell_type": "code",
   "execution_count": 10,
   "metadata": {},
   "outputs": [],
   "source": [
    "timestamp_idx = 1\n",
    "user_id_idx = 2\n",
    "\n",
    "threshold = 0.5 # in seconds\n",
    "\n",
    "count_dict = {}\n",
    "variance_dict = {}\n",
    "time_since_dict = {}\n",
    "last_pixel_time_dict = {}\n",
    "\n",
    "for partit in ddf.partitions:\n",
    "    partit[\"timestamp\"] = dd.to_datetime(partit[\"timestamp\"])\n",
    "    for row in partit.itertuples():\n",
    "        user_id = row[user_id_idx]\n",
    "        if user_id in last_pixel_time_dict.keys():\n",
    "            if user_id in time_since_dict.keys():\n",
    "                time_since_last_pixel = row[timestamp_idx] - last_pixel_time_dict[row[user_id_idx]]\n",
    "                variance = abs((time_since_dict[user_id] - time_since_last_pixel).total_seconds())\n",
    "                if variance < threshold:\n",
    "                    if user_id not in count_dict.keys():\n",
    "                        count_dict[user_id] = 0\n",
    "                    count_dict[user_id] += 1\n",
    "                else:\n",
    "                    time_since_dict[user_id] = time_since_last_pixel\n",
    "            else:\n",
    "                time_since_dict[user_id] = row[timestamp_idx] - last_pixel_time_dict[user_id]\n",
    "        last_pixel_time_dict[user_id] = row[timestamp_idx]\n"
   ]
  },
  {
   "cell_type": "code",
   "execution_count": 11,
   "metadata": {},
   "outputs": [],
   "source": [
    "with open('counts.txt', 'w') as convert_file:\n",
    "    convert_file.write(json.dumps(count_dict))"
   ]
  },
  {
   "cell_type": "code",
   "execution_count": 12,
   "metadata": {},
   "outputs": [
    {
     "data": {
      "text/plain": [
       "fKNBueWS8c3w3vtqClU1+1QRi4qjHXOmX5aWta7QvKQj5aB6evQwiq2s8Lg6GV9rZcKjENT7+mNQE5AJXJGSBQ==    390\n",
       "qqjD4zYwKS6FrxRkJfHKmxDEtFMEJ3ETGYYyMyNEE+2i9ul3WiqZ2glOks749PNfRdIeMbjz08yVEGEiVGs7gw==    370\n",
       "j64pL7yMe8HJqMz2IieaA51yhh5r7tj3CVAdRl0iNJJG3W4CZR76ykdilpSxeIoULLVx5tWRksxLfxEhTH4O1A==    360\n",
       "0mrF6+rh/QJKPf8UBjlOGrCVm+Xa/+V8erJyHcRGaqgb/VpnrF+eOHvxKWD5LahBRkN0IVRMNffEoyFkidcJKA==    356\n",
       "TwvGv5iDGt6GKM94Y4L49H1G01PxJsJaOMdXxxAnL8vMP+5aB5pUNkN8GQ2wJ6xOJDep5PVC4rAzYN/b++GuOQ==    355\n",
       "                                                                                           ... \n",
       "zmyt0uJQWt7mf85sa38gbOfroRDd2U1fhnymCucN2cYi5pxPCR3r1s864JM14x4J8NJeqPQS6JKs7QH+APsc0g==      1\n",
       "4Ll9ea5U3lfOCbdbaehFGrlk+0zY5d+3zylw0n1lGktdsnXpcaztGTQJQtIfgha6MGV8Di3xuPkjxliyWSwQBQ==      1\n",
       "LJwYyBoObDlSWdEZKDCtJjRhnVBaZgtrIOv5IBar0/Sj4ggh0CCsF47XkDudo9e+kN07bPc+vh/YYgqR3VX19w==      1\n",
       "QY8jdxP220YagxLRML0gdL+2JjdjSS8Ys0PRM7C1vXxDAIFKe7OXtmYpZhDqFb4AWbUw8Ge9FC2xpUfPLkPPdg==      1\n",
       "hDfLz5bUNCes/zWRcMn8WUX9PKadpuMjef0aTPhiwrJN6mIDhE34ZfejsbKw/bnLSTk2JOB2wQYeMD/8fnrcEQ==      1\n",
       "Length: 783835, dtype: int64"
      ]
     },
     "execution_count": 12,
     "metadata": {},
     "output_type": "execute_result"
    }
   ],
   "source": [
    "count_series = pd.Series(count_dict)\n",
    "count_series.sort_values(ascending=False)"
   ]
  },
  {
   "cell_type": "code",
   "execution_count": 13,
   "metadata": {},
   "outputs": [],
   "source": [
    "with open('user_ids.txt', 'w') as outfile:\n",
    "    json.dump(list(count_dict.keys()), outfile)"
   ]
  },
  {
   "cell_type": "code",
   "execution_count": 14,
   "metadata": {},
   "outputs": [
    {
     "data": {
      "text/plain": [
       "(array([7.76896e+05, 4.60600e+03, 1.50700e+03, 5.09000e+02, 1.74000e+02,\n",
       "        8.20000e+01, 2.70000e+01, 2.00000e+01, 8.00000e+00, 6.00000e+00]),\n",
       " array([  1. ,  39.9,  78.8, 117.7, 156.6, 195.5, 234.4, 273.3, 312.2,\n",
       "        351.1, 390. ]),\n",
       " <BarContainer object of 10 artists>)"
      ]
     },
     "execution_count": 14,
     "metadata": {},
     "output_type": "execute_result"
    },
    {
     "data": {
      "image/png": "[encoded data removed]",
      "text/plain": [
       "<Figure size 432x288 with 1 Axes>"
      ]
     },
     "metadata": {
      "needs_background": "light"
     },
     "output_type": "display_data"
    }
   ],
   "source": [
    "plt.hist(count_series)"
   ]
  },
  {
   "cell_type": "code",
   "execution_count": 15,
   "metadata": {},
   "outputs": [
    {
     "data": {
      "text/plain": [
       "(array([2.2132e+04, 3.3930e+03, 1.1700e+03, 4.1700e+02, 1.4500e+02,\n",
       "        8.0000e+01, 2.5000e+01, 1.7000e+01, 7.0000e+00, 6.0000e+00]),\n",
       " array([ 11. ,  48.9,  86.8, 124.7, 162.6, 200.5, 238.4, 276.3, 314.2,\n",
       "        352.1, 390. ]),\n",
       " <BarContainer object of 10 artists>)"
      ]
     },
     "execution_count": 15,
     "metadata": {},
     "output_type": "execute_result"
    },
    {
     "data": {
      "image/png": "[encoded data removed]",
      "text/plain": [
       "<Figure size 432x288 with 1 Axes>"
      ]
     },
     "metadata": {
      "needs_background": "light"
     },
     "output_type": "display_data"
    }
   ],
   "source": [
    "plt.hist(count_series.where(count_series > 10))"
   ]
  },
  {
   "cell_type": "code",
   "execution_count": 16,
   "metadata": {},
   "outputs": [
    {
     "data": {
      "text/plain": [
       "T0YpbXSKH34JeN7b4+TKC53JGM1FAfstI51tt1qGIbrPvsQscxzGVtnGaAYesxhXTMh32obx4np8uD937IqKEA==    9\n",
       "kBX00zaCBoA3r+p1A1TZ26I7xXbZ6mt4IrHJguitBN+IJAqhafZK4d0zdl55SoWivocPOPygxHDgpoICFfu+zg==    3\n",
       "jjwH3WEsSqbeoJz9OCQiutoCF019SuuosvSroMVPc1mA5N6mUh04deJWKlVovmXN3ZdwJD7naG94TU/CdwYufw==    3\n",
       "+gXsJwMEEBWw0BQjq5K70b61RrUXtiQ3CZTNw0rMNTMLafOv9OyQkDX+SHYwHmCuqrhSeHTT0+276VKFtxVzXQ==    3\n",
       "fBfvmRbm9SEB4VV/sN/cNTEVvdtN0rGa83cW8r6M5HwFZsbYneX9abBUjYNXEKZqZsVqW8fVpzvejfd6pV0pcQ==    7\n",
       "                                                                                           ..\n",
       "71XjiILw3dWHNKYIZfBkgwCkZIw+lr33RXfe6TvOLQR4EyeUSRD8w5q+BiYDp67uJzKsezFFvz/Ivfk/oVvUSA==    3\n",
       "/gJYMMYpiuc1/h781TdzoyP2WDUqkHVoUvTUZNlXo4nV+P5+XqIihnzi83gDxUx2VYR2t21Pp5SQktqCtggyYg==    3\n",
       "9JBui46OVhbcE9jnsC/7nblT8ldQeRcARDjOZs4wVQBXSRDJrcattdISWBXPVbc+CHRBoKxclwRR3WV2lyrbdQ==    3\n",
       "UCqOot736llEXhBf45WGn0TuPgysb99Nac39R7BCIJyN1+Li7mGu/0900pTkf2dHkPXcCdys3nTVYt+178bQZg==    3\n",
       "NBp9JUeoTT30rO26fLvsb5D3BylBSFZ6uZKAbk18wOI+kOiVFPOlOhXFMI12+X+UPH5WAJo0+UuPzCBZdBM6Kw==    3\n",
       "Length: 170841, dtype: int64"
      ]
     },
     "execution_count": 16,
     "metadata": {},
     "output_type": "execute_result"
    }
   ],
   "source": [
    "count_series[count_series > 2]"
   ]
  },
  {
   "cell_type": "code",
   "execution_count": 19,
   "metadata": {},
   "outputs": [
    {
     "data": {
      "text/plain": [
       "P0roP7FJ7BIv+pxYxccv6LjyWWgFJL2oblWikeN+tsUrBY6beN8UU5OAiixj7aqqLFdQZoEhLPDiwf5dlARdkA==    30\n",
       "ahuJK+u6rQxGhEkKMDUp+iRzzXsfSGV4MTeBDyNr7m3Tyk3kLYwSHLI+eVSFZ4tt7tdvy/+HLSUZwCrIMLdXMQ==    12\n",
       "mRJwZGFshD6TFCdqfM5CV1ZF4fXyfS8O2ndhc6HeN0Sk81q3bf37IRP8O53HyPOWNdFerii57scS4x84oyxZyg==    15\n",
       "BGS7bLBYFpJ5x9J2glzMbODxxUwpGNbmPBZ1mq9T9QfnF2CPlTt09/N04mvzgl96SLIlQksp2OpviYdeRNunNw==    11\n",
       "WmS3XPfSWnPVCCw50uBi9llRXILVWlH+9dHyE+h7MEGJWouTXWMkFYkjuGItAQNFGR40ZI5EfmdUS0WBQxdKLg==    13\n",
       "                                                                                            ..\n",
       "/l2bNVtsZ136bI0BxVov4wk/hxYmKrUZ+4zA9YhSsEjXDiON5GnpkQjhtD3CqploUDvdb9eAxAvDPvm+i1nllA==    13\n",
       "X50sX2aibw66aSmQA+jrUMrUqKVvAYAfoxbgjK38rRxallK1wIwxJHsQLXzypcrvWB7gk2JgI9Rm+qodiCsZ5w==    11\n",
       "5L9X4dnfSJe3QMJuweeMC1CYd0hPw6nCzitX37fG0LtXaN92VZs2kZAwEsOKVGbrJOHjlIQUV59cdCPvAhN/8w==    11\n",
       "hAp8Xirufh6p13vk6GWeU2L8gFYx7F4jWrSyaCPJz3TAF3bCUFikGTiyENDWOUcN6VfyGIlcMvGhUHBXa3Xr1A==    11\n",
       "tfW2pX4opsc8noHa5b0X24BEz25RdqkGIABG7rwAK3CVaYelxAMRWSoSImDy+u3vOPU4+21XAnkiHWksh9Ygrw==    11\n",
       "Length: 27392, dtype: int64"
      ]
     },
     "execution_count": 19,
     "metadata": {},
     "output_type": "execute_result"
    }
   ],
   "source": [
    "count_series[count_series > 10]"
   ]
  },
  {
   "cell_type": "code",
   "execution_count": 17,
   "metadata": {},
   "outputs": [],
   "source": [
    "with open('counts_greater_than_2.txt', 'w') as convert_file:\n",
    "    convert_file.write(json.dumps(count_series[count_series > 2].to_dict()))"
   ]
  },
  {
   "cell_type": "code",
   "execution_count": 18,
   "metadata": {},
   "outputs": [],
   "source": [
    "with open('user_ids_greater_than_2.txt', 'w') as outfile:\n",
    "    json.dump(list(count_series[count_series > 2].to_dict().keys()), outfile)"
   ]
  },
  {
   "cell_type": "code",
   "execution_count": null,
   "metadata": {},
   "outputs": [],
   "source": []
  }
 ],
 "metadata": {
  "interpreter": {
   "hash": "89de5ec334dfe115ce73491219555bfbfca3ffdc9cd8a93ff8db63b215712dbe"
  },
  "kernelspec": {
   "display_name": "Python 3.10.1 ('env': venv)",
   "language": "python",
   "name": "python3"
  },
  "language_info": {
   "codemirror_mode": {
    "name": "ipython",
    "version": 3
   },
   "file_extension": ".py",
   "mimetype": "text/x-python",
   "name": "python",
   "nbconvert_exporter": "python",
   "pygments_lexer": "ipython3",
   "version": "3.10.1"
  },
  "orig_nbformat": 4
 },
 "nbformat": 4,
 "nbformat_minor": 2
}
