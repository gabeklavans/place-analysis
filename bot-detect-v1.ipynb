{
 "cells": [
  {
   "cell_type": "code",
   "execution_count": 106,
   "metadata": {},
   "outputs": [],
   "source": [
    "import numpy as np\n",
    "import pandas as pd\n",
    "\n",
    "import dask.dataframe as dd\n",
    "import dask.array as da\n",
    "import dask.bag as db\n",
    "\n",
    "import matplotlib.pyplot as plt\n"
   ]
  },
  {
   "cell_type": "code",
   "execution_count": 107,
   "metadata": {},
   "outputs": [
    {
     "data": {
      "text/html": [
       "<div><strong>Dask DataFrame Structure:</strong></div>\n",
       "<div>\n",
       "<style scoped>\n",
       "    .dataframe tbody tr th:only-of-type {\n",
       "        vertical-align: middle;\n",
       "    }\n",
       "\n",
       "    .dataframe tbody tr th {\n",
       "        vertical-align: top;\n",
       "    }\n",
       "\n",
       "    .dataframe thead th {\n",
       "        text-align: right;\n",
       "    }\n",
       "</style>\n",
       "<table border=\"1\" class=\"dataframe\">\n",
       "  <thead>\n",
       "    <tr style=\"text-align: right;\">\n",
       "      <th></th>\n",
       "      <th>timestamp</th>\n",
       "      <th>user_id</th>\n",
       "      <th>pixel_color</th>\n",
       "      <th>coordinate</th>\n",
       "    </tr>\n",
       "    <tr>\n",
       "      <th>npartitions=54</th>\n",
       "      <th></th>\n",
       "      <th></th>\n",
       "      <th></th>\n",
       "      <th></th>\n",
       "    </tr>\n",
       "  </thead>\n",
       "  <tbody>\n",
       "    <tr>\n",
       "      <th></th>\n",
       "      <td>object</td>\n",
       "      <td>object</td>\n",
       "      <td>object</td>\n",
       "      <td>object</td>\n",
       "    </tr>\n",
       "    <tr>\n",
       "      <th></th>\n",
       "      <td>...</td>\n",
       "      <td>...</td>\n",
       "      <td>...</td>\n",
       "      <td>...</td>\n",
       "    </tr>\n",
       "    <tr>\n",
       "      <th>...</th>\n",
       "      <td>...</td>\n",
       "      <td>...</td>\n",
       "      <td>...</td>\n",
       "      <td>...</td>\n",
       "    </tr>\n",
       "    <tr>\n",
       "      <th></th>\n",
       "      <td>...</td>\n",
       "      <td>...</td>\n",
       "      <td>...</td>\n",
       "      <td>...</td>\n",
       "    </tr>\n",
       "    <tr>\n",
       "      <th></th>\n",
       "      <td>...</td>\n",
       "      <td>...</td>\n",
       "      <td>...</td>\n",
       "      <td>...</td>\n",
       "    </tr>\n",
       "  </tbody>\n",
       "</table>\n",
       "</div>\n",
       "<div>Dask Name: read-csv, 54 tasks</div>"
      ],
      "text/plain": [
       "Dask DataFrame Structure:\n",
       "               timestamp user_id pixel_color coordinate\n",
       "npartitions=54                                         \n",
       "                  object  object      object     object\n",
       "                     ...     ...         ...        ...\n",
       "...                  ...     ...         ...        ...\n",
       "                     ...     ...         ...        ...\n",
       "                     ...     ...         ...        ...\n",
       "Dask Name: read-csv, 54 tasks"
      ]
     },
     "execution_count": 107,
     "metadata": {},
     "output_type": "execute_result"
    }
   ],
   "source": [
    "chunksize = 10 ** 4\n",
    "filepath = \"data/2022_place_canvas_history.csv\"\n",
    "\n",
    "ddf = dd.read_csv(filepath, blocksize=\"400MB\")\n",
    "ddf"
   ]
  },
  {
   "cell_type": "code",
   "execution_count": 108,
   "metadata": {},
   "outputs": [
    {
     "name": "stdout",
     "output_type": "stream",
     "text": [
      "<class 'pandas.core.frame.DataFrame'>\n",
      "RangeIndex: 2963517 entries, 0 to 2963516\n",
      "Data columns (total 4 columns):\n",
      " #   Column       Dtype              \n",
      "---  ------       -----              \n",
      " 0   timestamp    datetime64[ns, UTC]\n",
      " 1   user_id      object             \n",
      " 2   pixel_color  object             \n",
      " 3   coordinate   object             \n",
      "dtypes: datetime64[ns, UTC](1), object(3)\n",
      "memory usage: 90.4+ MB\n"
     ]
    }
   ],
   "source": [
    "part = ddf.partitions[-7]\n",
    "part[\"timestamp\"] = dd.to_datetime(part[\"timestamp\"])\n",
    "part.sort_values(by=[\"timestamp\"], ascending=True)\n",
    "part.compute().info()"
   ]
  },
  {
   "cell_type": "code",
   "execution_count": 115,
   "metadata": {},
   "outputs": [
    {
     "ename": "KeyboardInterrupt",
     "evalue": "",
     "output_type": "error",
     "traceback": [
      "\u001b[1;31m---------------------------------------------------------------------------\u001b[0m",
      "\u001b[1;31mKeyboardInterrupt\u001b[0m                         Traceback (most recent call last)",
      "\u001b[1;32mc:\\Users\\gabek\\code\\place\\bot-detect-v1.ipynb Cell 4'\u001b[0m in \u001b[0;36m<cell line: 13>\u001b[1;34m()\u001b[0m\n\u001b[0;32m     <a href='vscode-notebook-cell://ssh-remote%2B192.168.0.42/c%3A/Users/gabek/code/place/bot-detect-v1.ipynb#ch0000007vscode-remote?line=9'>10</a>\u001b[0m thing1 \u001b[39m=\u001b[39m []\n\u001b[0;32m     <a href='vscode-notebook-cell://ssh-remote%2B192.168.0.42/c%3A/Users/gabek/code/place/bot-detect-v1.ipynb#ch0000007vscode-remote?line=10'>11</a>\u001b[0m thing2 \u001b[39m=\u001b[39m []\n\u001b[1;32m---> <a href='vscode-notebook-cell://ssh-remote%2B192.168.0.42/c%3A/Users/gabek/code/place/bot-detect-v1.ipynb#ch0000007vscode-remote?line=12'>13</a>\u001b[0m \u001b[39mfor\u001b[39;00m row \u001b[39min\u001b[39;00m ddf\u001b[39m.\u001b[39;49mcompute()\u001b[39m.\u001b[39mitertuples():\n\u001b[0;32m     <a href='vscode-notebook-cell://ssh-remote%2B192.168.0.42/c%3A/Users/gabek/code/place/bot-detect-v1.ipynb#ch0000007vscode-remote?line=13'>14</a>\u001b[0m     user_id \u001b[39m=\u001b[39m row[user_id_idx]\n\u001b[0;32m     <a href='vscode-notebook-cell://ssh-remote%2B192.168.0.42/c%3A/Users/gabek/code/place/bot-detect-v1.ipynb#ch0000007vscode-remote?line=14'>15</a>\u001b[0m     \u001b[39mif\u001b[39;00m user_id \u001b[39min\u001b[39;00m last_pixel_time_dict\u001b[39m.\u001b[39mkeys():\n",
      "File \u001b[1;32mc:\\Users\\gabek\\code\\place\\env\\lib\\site-packages\\dask\\base.py:292\u001b[0m, in \u001b[0;36mDaskMethodsMixin.compute\u001b[1;34m(self, **kwargs)\u001b[0m\n\u001b[0;32m    <a href='file:///c%3A/Users/gabek/code/place/env/lib/site-packages/dask/base.py?line=267'>268</a>\u001b[0m \u001b[39mdef\u001b[39;00m \u001b[39mcompute\u001b[39m(\u001b[39mself\u001b[39m, \u001b[39m*\u001b[39m\u001b[39m*\u001b[39mkwargs):\n\u001b[0;32m    <a href='file:///c%3A/Users/gabek/code/place/env/lib/site-packages/dask/base.py?line=268'>269</a>\u001b[0m     \u001b[39m\"\"\"Compute this dask collection\u001b[39;00m\n\u001b[0;32m    <a href='file:///c%3A/Users/gabek/code/place/env/lib/site-packages/dask/base.py?line=269'>270</a>\u001b[0m \n\u001b[0;32m    <a href='file:///c%3A/Users/gabek/code/place/env/lib/site-packages/dask/base.py?line=270'>271</a>\u001b[0m \u001b[39m    This turns a lazy Dask collection into its in-memory equivalent.\u001b[39;00m\n\u001b[1;32m   (...)\u001b[0m\n\u001b[0;32m    <a href='file:///c%3A/Users/gabek/code/place/env/lib/site-packages/dask/base.py?line=289'>290</a>\u001b[0m \u001b[39m    dask.base.compute\u001b[39;00m\n\u001b[0;32m    <a href='file:///c%3A/Users/gabek/code/place/env/lib/site-packages/dask/base.py?line=290'>291</a>\u001b[0m \u001b[39m    \"\"\"\u001b[39;00m\n\u001b[1;32m--> <a href='file:///c%3A/Users/gabek/code/place/env/lib/site-packages/dask/base.py?line=291'>292</a>\u001b[0m     (result,) \u001b[39m=\u001b[39m compute(\u001b[39mself\u001b[39m, traverse\u001b[39m=\u001b[39m\u001b[39mFalse\u001b[39;00m, \u001b[39m*\u001b[39m\u001b[39m*\u001b[39mkwargs)\n\u001b[0;32m    <a href='file:///c%3A/Users/gabek/code/place/env/lib/site-packages/dask/base.py?line=292'>293</a>\u001b[0m     \u001b[39mreturn\u001b[39;00m result\n",
      "File \u001b[1;32mc:\\Users\\gabek\\code\\place\\env\\lib\\site-packages\\dask\\base.py:575\u001b[0m, in \u001b[0;36mcompute\u001b[1;34m(traverse, optimize_graph, scheduler, get, *args, **kwargs)\u001b[0m\n\u001b[0;32m    <a href='file:///c%3A/Users/gabek/code/place/env/lib/site-packages/dask/base.py?line=571'>572</a>\u001b[0m     keys\u001b[39m.\u001b[39mappend(x\u001b[39m.\u001b[39m__dask_keys__())\n\u001b[0;32m    <a href='file:///c%3A/Users/gabek/code/place/env/lib/site-packages/dask/base.py?line=572'>573</a>\u001b[0m     postcomputes\u001b[39m.\u001b[39mappend(x\u001b[39m.\u001b[39m__dask_postcompute__())\n\u001b[1;32m--> <a href='file:///c%3A/Users/gabek/code/place/env/lib/site-packages/dask/base.py?line=574'>575</a>\u001b[0m results \u001b[39m=\u001b[39m schedule(dsk, keys, \u001b[39m*\u001b[39m\u001b[39m*\u001b[39mkwargs)\n\u001b[0;32m    <a href='file:///c%3A/Users/gabek/code/place/env/lib/site-packages/dask/base.py?line=575'>576</a>\u001b[0m \u001b[39mreturn\u001b[39;00m repack([f(r, \u001b[39m*\u001b[39ma) \u001b[39mfor\u001b[39;00m r, (f, a) \u001b[39min\u001b[39;00m \u001b[39mzip\u001b[39m(results, postcomputes)])\n",
      "File \u001b[1;32mc:\\Users\\gabek\\code\\place\\env\\lib\\site-packages\\dask\\threaded.py:81\u001b[0m, in \u001b[0;36mget\u001b[1;34m(dsk, result, cache, num_workers, pool, **kwargs)\u001b[0m\n\u001b[0;32m     <a href='file:///c%3A/Users/gabek/code/place/env/lib/site-packages/dask/threaded.py?line=77'>78</a>\u001b[0m     \u001b[39melif\u001b[39;00m \u001b[39misinstance\u001b[39m(pool, multiprocessing\u001b[39m.\u001b[39mpool\u001b[39m.\u001b[39mPool):\n\u001b[0;32m     <a href='file:///c%3A/Users/gabek/code/place/env/lib/site-packages/dask/threaded.py?line=78'>79</a>\u001b[0m         pool \u001b[39m=\u001b[39m MultiprocessingPoolExecutor(pool)\n\u001b[1;32m---> <a href='file:///c%3A/Users/gabek/code/place/env/lib/site-packages/dask/threaded.py?line=80'>81</a>\u001b[0m results \u001b[39m=\u001b[39m get_async(\n\u001b[0;32m     <a href='file:///c%3A/Users/gabek/code/place/env/lib/site-packages/dask/threaded.py?line=81'>82</a>\u001b[0m     pool\u001b[39m.\u001b[39msubmit,\n\u001b[0;32m     <a href='file:///c%3A/Users/gabek/code/place/env/lib/site-packages/dask/threaded.py?line=82'>83</a>\u001b[0m     pool\u001b[39m.\u001b[39m_max_workers,\n\u001b[0;32m     <a href='file:///c%3A/Users/gabek/code/place/env/lib/site-packages/dask/threaded.py?line=83'>84</a>\u001b[0m     dsk,\n\u001b[0;32m     <a href='file:///c%3A/Users/gabek/code/place/env/lib/site-packages/dask/threaded.py?line=84'>85</a>\u001b[0m     result,\n\u001b[0;32m     <a href='file:///c%3A/Users/gabek/code/place/env/lib/site-packages/dask/threaded.py?line=85'>86</a>\u001b[0m     cache\u001b[39m=\u001b[39mcache,\n\u001b[0;32m     <a href='file:///c%3A/Users/gabek/code/place/env/lib/site-packages/dask/threaded.py?line=86'>87</a>\u001b[0m     get_id\u001b[39m=\u001b[39m_thread_get_id,\n\u001b[0;32m     <a href='file:///c%3A/Users/gabek/code/place/env/lib/site-packages/dask/threaded.py?line=87'>88</a>\u001b[0m     pack_exception\u001b[39m=\u001b[39mpack_exception,\n\u001b[0;32m     <a href='file:///c%3A/Users/gabek/code/place/env/lib/site-packages/dask/threaded.py?line=88'>89</a>\u001b[0m     \u001b[39m*\u001b[39m\u001b[39m*\u001b[39mkwargs,\n\u001b[0;32m     <a href='file:///c%3A/Users/gabek/code/place/env/lib/site-packages/dask/threaded.py?line=89'>90</a>\u001b[0m )\n\u001b[0;32m     <a href='file:///c%3A/Users/gabek/code/place/env/lib/site-packages/dask/threaded.py?line=91'>92</a>\u001b[0m \u001b[39m# Cleanup pools associated to dead threads\u001b[39;00m\n\u001b[0;32m     <a href='file:///c%3A/Users/gabek/code/place/env/lib/site-packages/dask/threaded.py?line=92'>93</a>\u001b[0m \u001b[39mwith\u001b[39;00m pools_lock:\n",
      "File \u001b[1;32mc:\\Users\\gabek\\code\\place\\env\\lib\\site-packages\\dask\\local.py:497\u001b[0m, in \u001b[0;36mget_async\u001b[1;34m(submit, num_workers, dsk, result, cache, get_id, rerun_exceptions_locally, pack_exception, raise_exception, callbacks, dumps, loads, chunksize, **kwargs)\u001b[0m\n\u001b[0;32m    <a href='file:///c%3A/Users/gabek/code/place/env/lib/site-packages/dask/local.py?line=494'>495</a>\u001b[0m \u001b[39mwhile\u001b[39;00m state[\u001b[39m\"\u001b[39m\u001b[39mwaiting\u001b[39m\u001b[39m\"\u001b[39m] \u001b[39mor\u001b[39;00m state[\u001b[39m\"\u001b[39m\u001b[39mready\u001b[39m\u001b[39m\"\u001b[39m] \u001b[39mor\u001b[39;00m state[\u001b[39m\"\u001b[39m\u001b[39mrunning\u001b[39m\u001b[39m\"\u001b[39m]:\n\u001b[0;32m    <a href='file:///c%3A/Users/gabek/code/place/env/lib/site-packages/dask/local.py?line=495'>496</a>\u001b[0m     fire_tasks(chunksize)\n\u001b[1;32m--> <a href='file:///c%3A/Users/gabek/code/place/env/lib/site-packages/dask/local.py?line=496'>497</a>\u001b[0m     \u001b[39mfor\u001b[39;00m key, res_info, failed \u001b[39min\u001b[39;00m queue_get(queue)\u001b[39m.\u001b[39mresult():\n\u001b[0;32m    <a href='file:///c%3A/Users/gabek/code/place/env/lib/site-packages/dask/local.py?line=497'>498</a>\u001b[0m         \u001b[39mif\u001b[39;00m failed:\n\u001b[0;32m    <a href='file:///c%3A/Users/gabek/code/place/env/lib/site-packages/dask/local.py?line=498'>499</a>\u001b[0m             exc, tb \u001b[39m=\u001b[39m loads(res_info)\n",
      "File \u001b[1;32mc:\\Users\\gabek\\code\\place\\env\\lib\\site-packages\\dask\\local.py:127\u001b[0m, in \u001b[0;36mqueue_get\u001b[1;34m(q)\u001b[0m\n\u001b[0;32m    <a href='file:///c%3A/Users/gabek/code/place/env/lib/site-packages/dask/local.py?line=124'>125</a>\u001b[0m \u001b[39mwhile\u001b[39;00m \u001b[39mTrue\u001b[39;00m:\n\u001b[0;32m    <a href='file:///c%3A/Users/gabek/code/place/env/lib/site-packages/dask/local.py?line=125'>126</a>\u001b[0m     \u001b[39mtry\u001b[39;00m:\n\u001b[1;32m--> <a href='file:///c%3A/Users/gabek/code/place/env/lib/site-packages/dask/local.py?line=126'>127</a>\u001b[0m         \u001b[39mreturn\u001b[39;00m q\u001b[39m.\u001b[39;49mget(block\u001b[39m=\u001b[39;49m\u001b[39mTrue\u001b[39;49;00m, timeout\u001b[39m=\u001b[39;49m\u001b[39m0.1\u001b[39;49m)\n\u001b[0;32m    <a href='file:///c%3A/Users/gabek/code/place/env/lib/site-packages/dask/local.py?line=127'>128</a>\u001b[0m     \u001b[39mexcept\u001b[39;00m Empty:\n\u001b[0;32m    <a href='file:///c%3A/Users/gabek/code/place/env/lib/site-packages/dask/local.py?line=128'>129</a>\u001b[0m         \u001b[39mpass\u001b[39;00m\n",
      "File \u001b[1;32mC:\\Python310\\lib\\queue.py:180\u001b[0m, in \u001b[0;36mQueue.get\u001b[1;34m(self, block, timeout)\u001b[0m\n\u001b[0;32m    <a href='file:///c%3A/Python310/lib/queue.py?line=177'>178</a>\u001b[0m         \u001b[39mif\u001b[39;00m remaining \u001b[39m<\u001b[39m\u001b[39m=\u001b[39m \u001b[39m0.0\u001b[39m:\n\u001b[0;32m    <a href='file:///c%3A/Python310/lib/queue.py?line=178'>179</a>\u001b[0m             \u001b[39mraise\u001b[39;00m Empty\n\u001b[1;32m--> <a href='file:///c%3A/Python310/lib/queue.py?line=179'>180</a>\u001b[0m         \u001b[39mself\u001b[39;49m\u001b[39m.\u001b[39;49mnot_empty\u001b[39m.\u001b[39;49mwait(remaining)\n\u001b[0;32m    <a href='file:///c%3A/Python310/lib/queue.py?line=180'>181</a>\u001b[0m item \u001b[39m=\u001b[39m \u001b[39mself\u001b[39m\u001b[39m.\u001b[39m_get()\n\u001b[0;32m    <a href='file:///c%3A/Python310/lib/queue.py?line=181'>182</a>\u001b[0m \u001b[39mself\u001b[39m\u001b[39m.\u001b[39mnot_full\u001b[39m.\u001b[39mnotify()\n",
      "File \u001b[1;32mC:\\Python310\\lib\\threading.py:324\u001b[0m, in \u001b[0;36mCondition.wait\u001b[1;34m(self, timeout)\u001b[0m\n\u001b[0;32m    <a href='file:///c%3A/Python310/lib/threading.py?line=321'>322</a>\u001b[0m \u001b[39melse\u001b[39;00m:\n\u001b[0;32m    <a href='file:///c%3A/Python310/lib/threading.py?line=322'>323</a>\u001b[0m     \u001b[39mif\u001b[39;00m timeout \u001b[39m>\u001b[39m \u001b[39m0\u001b[39m:\n\u001b[1;32m--> <a href='file:///c%3A/Python310/lib/threading.py?line=323'>324</a>\u001b[0m         gotit \u001b[39m=\u001b[39m waiter\u001b[39m.\u001b[39;49macquire(\u001b[39mTrue\u001b[39;49;00m, timeout)\n\u001b[0;32m    <a href='file:///c%3A/Python310/lib/threading.py?line=324'>325</a>\u001b[0m     \u001b[39melse\u001b[39;00m:\n\u001b[0;32m    <a href='file:///c%3A/Python310/lib/threading.py?line=325'>326</a>\u001b[0m         gotit \u001b[39m=\u001b[39m waiter\u001b[39m.\u001b[39macquire(\u001b[39mFalse\u001b[39;00m)\n",
      "\u001b[1;31mKeyboardInterrupt\u001b[0m: "
     ]
    }
   ],
   "source": [
    "timestamp_idx = 1\n",
    "user_id_idx = 2\n",
    "\n",
    "threshold = 0.2 # in seconds\n",
    "\n",
    "count_dict = {}\n",
    "variance_dict = {}\n",
    "time_since_dict = {}\n",
    "last_pixel_time_dict = {}\n",
    "thing1 = []\n",
    "thing2 = []\n",
    "\n",
    "for row in part.itertuples():\n",
    "    user_id = row[user_id_idx]\n",
    "    if user_id in last_pixel_time_dict.keys():\n",
    "        if user_id in time_since_dict.keys():\n",
    "            time_since_last_pixel = row[timestamp_idx] - last_pixel_time_dict[row[user_id_idx]]\n",
    "            variance = abs((time_since_dict[user_id] - time_since_last_pixel).total_seconds())\n",
    "            thing1.append(variance)\n",
    "            if variance < threshold:\n",
    "                if user_id not in count_dict.keys():\n",
    "                    count_dict[user_id] = 0\n",
    "                count_dict[user_id] += 1\n",
    "            else:\n",
    "                time_since_dict[user_id] = time_since_last_pixel\n",
    "        else:\n",
    "            time_since_dict[user_id] = row[timestamp_idx] - last_pixel_time_dict[user_id]\n",
    "    last_pixel_time_dict[user_id] = row[timestamp_idx]\n"
   ]
  },
  {
   "cell_type": "code",
   "execution_count": null,
   "metadata": {},
   "outputs": [
    {
     "ename": "KeyboardInterrupt",
     "evalue": "",
     "output_type": "error",
     "traceback": [
      "\u001b[1;31m---------------------------------------------------------------------------\u001b[0m\n",
      "\u001b[1;31mKeyboardInterrupt\u001b[0m                         Traceback (most recent call last)\n",
      "\u001b[1;32mc:\\Users\\gabek\\code\\place\\bot-detect-v1.ipynb Cell 4'\u001b[0m in \u001b[0;36m<cell line: 13>\u001b[1;34m()\u001b[0m\n",
      "\u001b[0;32m     <a href='vscode-notebook-cell://ssh-remote%2B192.168.0.42/c%3A/Users/gabek/code/place/bot-detect-v1.ipynb#ch0000007vscode-remote?line=9'>10</a>\u001b[0m thing1 \u001b[39m=\u001b[39m []\n",
      "\u001b[0;32m     <a href='vscode-notebook-cell://ssh-remote%2B192.168.0.42/c%3A/Users/gabek/code/place/bot-detect-v1.ipynb#ch0000007vscode-remote?line=10'>11</a>\u001b[0m thing2 \u001b[39m=\u001b[39m []\n",
      "\u001b[1;32m---> <a href='vscode-notebook-cell://ssh-remote%2B192.168.0.42/c%3A/Users/gabek/code/place/bot-detect-v1.ipynb#ch0000007vscode-remote?line=12'>13</a>\u001b[0m \u001b[39mfor\u001b[39;00m row \u001b[39min\u001b[39;00m ddf\u001b[39m.\u001b[39;49mcompute()\u001b[39m.\u001b[39mitertuples():\n",
      "\u001b[0;32m     <a href='vscode-notebook-cell://ssh-remote%2B192.168.0.42/c%3A/Users/gabek/code/place/bot-detect-v1.ipynb#ch0000007vscode-remote?line=13'>14</a>\u001b[0m     user_id \u001b[39m=\u001b[39m row[user_id_idx]\n",
      "\u001b[0;32m     <a href='vscode-notebook-cell://ssh-remote%2B192.168.0.42/c%3A/Users/gabek/code/place/bot-detect-v1.ipynb#ch0000007vscode-remote?line=14'>15</a>\u001b[0m     \u001b[39mif\u001b[39;00m user_id \u001b[39min\u001b[39;00m last_pixel_time_dict\u001b[39m.\u001b[39mkeys():\n",
      "\n",
      "File \u001b[1;32mc:\\Users\\gabek\\code\\place\\env\\lib\\site-packages\\dask\\base.py:292\u001b[0m, in \u001b[0;36mDaskMethodsMixin.compute\u001b[1;34m(self, **kwargs)\u001b[0m\n",
      "\u001b[0;32m    <a href='file:///c%3A/Users/gabek/code/place/env/lib/site-packages/dask/base.py?line=267'>268</a>\u001b[0m \u001b[39mdef\u001b[39;00m \u001b[39mcompute\u001b[39m(\u001b[39mself\u001b[39m, \u001b[39m*\u001b[39m\u001b[39m*\u001b[39mkwargs):\n",
      "\u001b[0;32m    <a href='file:///c%3A/Users/gabek/code/place/env/lib/site-packages/dask/base.py?line=268'>269</a>\u001b[0m     \u001b[39m\"\"\"Compute this dask collection\u001b[39;00m\n",
      "\u001b[0;32m    <a href='file:///c%3A/Users/gabek/code/place/env/lib/site-packages/dask/base.py?line=269'>270</a>\u001b[0m \n",
      "\u001b[0;32m    <a href='file:///c%3A/Users/gabek/code/place/env/lib/site-packages/dask/base.py?line=270'>271</a>\u001b[0m \u001b[39m    This turns a lazy Dask collection into its in-memory equivalent.\u001b[39;00m\n",
      "\u001b[1;32m   (...)\u001b[0m\n",
      "\u001b[0;32m    <a href='file:///c%3A/Users/gabek/code/place/env/lib/site-packages/dask/base.py?line=289'>290</a>\u001b[0m \u001b[39m    dask.base.compute\u001b[39;00m\n",
      "\u001b[0;32m    <a href='file:///c%3A/Users/gabek/code/place/env/lib/site-packages/dask/base.py?line=290'>291</a>\u001b[0m \u001b[39m    \"\"\"\u001b[39;00m\n",
      "\u001b[1;32m--> <a href='file:///c%3A/Users/gabek/code/place/env/lib/site-packages/dask/base.py?line=291'>292</a>\u001b[0m     (result,) \u001b[39m=\u001b[39m compute(\u001b[39mself\u001b[39m, traverse\u001b[39m=\u001b[39m\u001b[39mFalse\u001b[39;00m, \u001b[39m*\u001b[39m\u001b[39m*\u001b[39mkwargs)\n",
      "\u001b[0;32m    <a href='file:///c%3A/Users/gabek/code/place/env/lib/site-packages/dask/base.py?line=292'>293</a>\u001b[0m     \u001b[39mreturn\u001b[39;00m result\n",
      "\n",
      "File \u001b[1;32mc:\\Users\\gabek\\code\\place\\env\\lib\\site-packages\\dask\\base.py:575\u001b[0m, in \u001b[0;36mcompute\u001b[1;34m(traverse, optimize_graph, scheduler, get, *args, **kwargs)\u001b[0m\n",
      "\u001b[0;32m    <a href='file:///c%3A/Users/gabek/code/place/env/lib/site-packages/dask/base.py?line=571'>572</a>\u001b[0m     keys\u001b[39m.\u001b[39mappend(x\u001b[39m.\u001b[39m__dask_keys__())\n",
      "\u001b[0;32m    <a href='file:///c%3A/Users/gabek/code/place/env/lib/site-packages/dask/base.py?line=572'>573</a>\u001b[0m     postcomputes\u001b[39m.\u001b[39mappend(x\u001b[39m.\u001b[39m__dask_postcompute__())\n",
      "\u001b[1;32m--> <a href='file:///c%3A/Users/gabek/code/place/env/lib/site-packages/dask/base.py?line=574'>575</a>\u001b[0m results \u001b[39m=\u001b[39m schedule(dsk, keys, \u001b[39m*\u001b[39m\u001b[39m*\u001b[39mkwargs)\n",
      "\u001b[0;32m    <a href='file:///c%3A/Users/gabek/code/place/env/lib/site-packages/dask/base.py?line=575'>576</a>\u001b[0m \u001b[39mreturn\u001b[39;00m repack([f(r, \u001b[39m*\u001b[39ma) \u001b[39mfor\u001b[39;00m r, (f, a) \u001b[39min\u001b[39;00m \u001b[39mzip\u001b[39m(results, postcomputes)])\n",
      "\n",
      "File \u001b[1;32mc:\\Users\\gabek\\code\\place\\env\\lib\\site-packages\\dask\\threaded.py:81\u001b[0m, in \u001b[0;36mget\u001b[1;34m(dsk, result, cache, num_workers, pool, **kwargs)\u001b[0m\n",
      "\u001b[0;32m     <a href='file:///c%3A/Users/gabek/code/place/env/lib/site-packages/dask/threaded.py?line=77'>78</a>\u001b[0m     \u001b[39melif\u001b[39;00m \u001b[39misinstance\u001b[39m(pool, multiprocessing\u001b[39m.\u001b[39mpool\u001b[39m.\u001b[39mPool):\n",
      "\u001b[0;32m     <a href='file:///c%3A/Users/gabek/code/place/env/lib/site-packages/dask/threaded.py?line=78'>79</a>\u001b[0m         pool \u001b[39m=\u001b[39m MultiprocessingPoolExecutor(pool)\n",
      "\u001b[1;32m---> <a href='file:///c%3A/Users/gabek/code/place/env/lib/site-packages/dask/threaded.py?line=80'>81</a>\u001b[0m results \u001b[39m=\u001b[39m get_async(\n",
      "\u001b[0;32m     <a href='file:///c%3A/Users/gabek/code/place/env/lib/site-packages/dask/threaded.py?line=81'>82</a>\u001b[0m     pool\u001b[39m.\u001b[39msubmit,\n",
      "\u001b[0;32m     <a href='file:///c%3A/Users/gabek/code/place/env/lib/site-packages/dask/threaded.py?line=82'>83</a>\u001b[0m     pool\u001b[39m.\u001b[39m_max_workers,\n",
      "\u001b[0;32m     <a href='file:///c%3A/Users/gabek/code/place/env/lib/site-packages/dask/threaded.py?line=83'>84</a>\u001b[0m     dsk,\n",
      "\u001b[0;32m     <a href='file:///c%3A/Users/gabek/code/place/env/lib/site-packages/dask/threaded.py?line=84'>85</a>\u001b[0m     result,\n",
      "\u001b[0;32m     <a href='file:///c%3A/Users/gabek/code/place/env/lib/site-packages/dask/threaded.py?line=85'>86</a>\u001b[0m     cache\u001b[39m=\u001b[39mcache,\n",
      "\u001b[0;32m     <a href='file:///c%3A/Users/gabek/code/place/env/lib/site-packages/dask/threaded.py?line=86'>87</a>\u001b[0m     get_id\u001b[39m=\u001b[39m_thread_get_id,\n",
      "\u001b[0;32m     <a href='file:///c%3A/Users/gabek/code/place/env/lib/site-packages/dask/threaded.py?line=87'>88</a>\u001b[0m     pack_exception\u001b[39m=\u001b[39mpack_exception,\n",
      "\u001b[0;32m     <a href='file:///c%3A/Users/gabek/code/place/env/lib/site-packages/dask/threaded.py?line=88'>89</a>\u001b[0m     \u001b[39m*\u001b[39m\u001b[39m*\u001b[39mkwargs,\n",
      "\u001b[0;32m     <a href='file:///c%3A/Users/gabek/code/place/env/lib/site-packages/dask/threaded.py?line=89'>90</a>\u001b[0m )\n",
      "\u001b[0;32m     <a href='file:///c%3A/Users/gabek/code/place/env/lib/site-packages/dask/threaded.py?line=91'>92</a>\u001b[0m \u001b[39m# Cleanup pools associated to dead threads\u001b[39;00m\n",
      "\u001b[0;32m     <a href='file:///c%3A/Users/gabek/code/place/env/lib/site-packages/dask/threaded.py?line=92'>93</a>\u001b[0m \u001b[39mwith\u001b[39;00m pools_lock:\n",
      "\n",
      "File \u001b[1;32mc:\\Users\\gabek\\code\\place\\env\\lib\\site-packages\\dask\\local.py:497\u001b[0m, in \u001b[0;36mget_async\u001b[1;34m(submit, num_workers, dsk, result, cache, get_id, rerun_exceptions_locally, pack_exception, raise_exception, callbacks, dumps, loads, chunksize, **kwargs)\u001b[0m\n",
      "\u001b[0;32m    <a href='file:///c%3A/Users/gabek/code/place/env/lib/site-packages/dask/local.py?line=494'>495</a>\u001b[0m \u001b[39mwhile\u001b[39;00m state[\u001b[39m\"\u001b[39m\u001b[39mwaiting\u001b[39m\u001b[39m\"\u001b[39m] \u001b[39mor\u001b[39;00m state[\u001b[39m\"\u001b[39m\u001b[39mready\u001b[39m\u001b[39m\"\u001b[39m] \u001b[39mor\u001b[39;00m state[\u001b[39m\"\u001b[39m\u001b[39mrunning\u001b[39m\u001b[39m\"\u001b[39m]:\n",
      "\u001b[0;32m    <a href='file:///c%3A/Users/gabek/code/place/env/lib/site-packages/dask/local.py?line=495'>496</a>\u001b[0m     fire_tasks(chunksize)\n",
      "\u001b[1;32m--> <a href='file:///c%3A/Users/gabek/code/place/env/lib/site-packages/dask/local.py?line=496'>497</a>\u001b[0m     \u001b[39mfor\u001b[39;00m key, res_info, failed \u001b[39min\u001b[39;00m queue_get(queue)\u001b[39m.\u001b[39mresult():\n",
      "\u001b[0;32m    <a href='file:///c%3A/Users/gabek/code/place/env/lib/site-packages/dask/local.py?line=497'>498</a>\u001b[0m         \u001b[39mif\u001b[39;00m failed:\n",
      "\u001b[0;32m    <a href='file:///c%3A/Users/gabek/code/place/env/lib/site-packages/dask/local.py?line=498'>499</a>\u001b[0m             exc, tb \u001b[39m=\u001b[39m loads(res_info)\n",
      "\n",
      "File \u001b[1;32mc:\\Users\\gabek\\code\\place\\env\\lib\\site-packages\\dask\\local.py:127\u001b[0m, in \u001b[0;36mqueue_get\u001b[1;34m(q)\u001b[0m\n",
      "\u001b[0;32m    <a href='file:///c%3A/Users/gabek/code/place/env/lib/site-packages/dask/local.py?line=124'>125</a>\u001b[0m \u001b[39mwhile\u001b[39;00m \u001b[39mTrue\u001b[39;00m:\n",
      "\u001b[0;32m    <a href='file:///c%3A/Users/gabek/code/place/env/lib/site-packages/dask/local.py?line=125'>126</a>\u001b[0m     \u001b[39mtry\u001b[39;00m:\n",
      "\u001b[1;32m--> <a href='file:///c%3A/Users/gabek/code/place/env/lib/site-packages/dask/local.py?line=126'>127</a>\u001b[0m         \u001b[39mreturn\u001b[39;00m q\u001b[39m.\u001b[39;49mget(block\u001b[39m=\u001b[39;49m\u001b[39mTrue\u001b[39;49;00m, timeout\u001b[39m=\u001b[39;49m\u001b[39m0.1\u001b[39;49m)\n",
      "\u001b[0;32m    <a href='file:///c%3A/Users/gabek/code/place/env/lib/site-packages/dask/local.py?line=127'>128</a>\u001b[0m     \u001b[39mexcept\u001b[39;00m Empty:\n",
      "\u001b[0;32m    <a href='file:///c%3A/Users/gabek/code/place/env/lib/site-packages/dask/local.py?line=128'>129</a>\u001b[0m         \u001b[39mpass\u001b[39;00m\n",
      "\n",
      "File \u001b[1;32mC:\\Python310\\lib\\queue.py:180\u001b[0m, in \u001b[0;36mQueue.get\u001b[1;34m(self, block, timeout)\u001b[0m\n",
      "\u001b[0;32m    <a href='file:///c%3A/Python310/lib/queue.py?line=177'>178</a>\u001b[0m         \u001b[39mif\u001b[39;00m remaining \u001b[39m<\u001b[39m\u001b[39m=\u001b[39m \u001b[39m0.0\u001b[39m:\n",
      "\u001b[0;32m    <a href='file:///c%3A/Python310/lib/queue.py?line=178'>179</a>\u001b[0m             \u001b[39mraise\u001b[39;00m Empty\n",
      "\u001b[1;32m--> <a href='file:///c%3A/Python310/lib/queue.py?line=179'>180</a>\u001b[0m         \u001b[39mself\u001b[39;49m\u001b[39m.\u001b[39;49mnot_empty\u001b[39m.\u001b[39;49mwait(remaining)\n",
      "\u001b[0;32m    <a href='file:///c%3A/Python310/lib/queue.py?line=180'>181</a>\u001b[0m item \u001b[39m=\u001b[39m \u001b[39mself\u001b[39m\u001b[39m.\u001b[39m_get()\n",
      "\u001b[0;32m    <a href='file:///c%3A/Python310/lib/queue.py?line=181'>182</a>\u001b[0m \u001b[39mself\u001b[39m\u001b[39m.\u001b[39mnot_full\u001b[39m.\u001b[39mnotify()\n",
      "\n",
      "File \u001b[1;32mC:\\Python310\\lib\\threading.py:324\u001b[0m, in \u001b[0;36mCondition.wait\u001b[1;34m(self, timeout)\u001b[0m\n",
      "\u001b[0;32m    <a href='file:///c%3A/Python310/lib/threading.py?line=321'>322</a>\u001b[0m \u001b[39melse\u001b[39;00m:\n",
      "\u001b[0;32m    <a href='file:///c%3A/Python310/lib/threading.py?line=322'>323</a>\u001b[0m     \u001b[39mif\u001b[39;00m timeout \u001b[39m>\u001b[39m \u001b[39m0\u001b[39m:\n",
      "\u001b[1;32m--> <a href='file:///c%3A/Python310/lib/threading.py?line=323'>324</a>\u001b[0m         gotit \u001b[39m=\u001b[39m waiter\u001b[39m.\u001b[39;49macquire(\u001b[39mTrue\u001b[39;49;00m, timeout)\n",
      "\u001b[0;32m    <a href='file:///c%3A/Python310/lib/threading.py?line=324'>325</a>\u001b[0m     \u001b[39melse\u001b[39;00m:\n",
      "\u001b[0;32m    <a href='file:///c%3A/Python310/lib/threading.py?line=325'>326</a>\u001b[0m         gotit \u001b[39m=\u001b[39m waiter\u001b[39m.\u001b[39macquire(\u001b[39mFalse\u001b[39;00m)\n",
      "\n",
      "\u001b[1;31mKeyboardInterrupt\u001b[0m: "
     ]
    }
   ],
   "source": [
    "timestamp_idx = 1\n",
    "user_id_idx = 2\n",
    "\n",
    "threshold = 0.2 # in seconds\n",
    "\n",
    "count_dict = {}\n",
    "variance_dict = {}\n",
    "time_since_dict = {}\n",
    "last_pixel_time_dict = {}\n",
    "thing1 = []\n",
    "thing2 = []\n",
    "\n",
    "for row in ddf.compute().itertuples():\n",
    "    user_id = row[user_id_idx]\n",
    "    if user_id in last_pixel_time_dict.keys():\n",
    "        if user_id in time_since_dict.keys():\n",
    "            time_since_last_pixel = row[timestamp_idx] - last_pixel_time_dict[row[user_id_idx]]\n",
    "            variance = abs((time_since_dict[user_id] - time_since_last_pixel).total_seconds())\n",
    "            thing1.append(variance)\n",
    "            if variance < threshold:\n",
    "                if user_id not in count_dict.keys():\n",
    "                    count_dict[user_id] = 0\n",
    "                count_dict[user_id] += 1\n",
    "            else:\n",
    "                time_since_dict[user_id] = time_since_last_pixel\n",
    "        else:\n",
    "            time_since_dict[user_id] = row[timestamp_idx] - last_pixel_time_dict[user_id]\n",
    "    last_pixel_time_dict[user_id] = row[timestamp_idx]\n"
   ]
  },
  {
   "cell_type": "code",
   "execution_count": null,
   "metadata": {},
   "outputs": [
    {
     "data": {
      "text/plain": [
       "aFo9aUCJWwWUlTk+2FeiSXqy/RDtXhhTzPlFzPoGesL9czzO3QMPhaWwByEAzn/uHY4oFe0A0V/p3AA1bM+lmA==    6\n",
       "wZG0JZQgRur74NsYOL9jH/6CQMAcv36Wq7cp9JT7FafV/9S/vVWIAvpACzOvTh3K76azPyba4Ukld/J+ZAwLjQ==    2\n",
       "O5hvOlpPsFEuD8HJw4BcbsM5nnbTXqYB3Lr8PTykoOe7HzVe70JVRuAM0N3CMB3Of8pFgehOBwhi8iOy+BeCnw==    2\n",
       "tf4j8e1nwFzLmeEk2hF2JzRMlcqA0TTtJ9/0DRLdECSVBIm0YTGZOC0jIFkmXIFAcK0uhOT/ZnzW0IbfVDvlig==    2\n",
       "+/gsqTgInQZBn8FuDnBeEowgxyVp5C+CjV66MMqA0U5AjcKwpN6fueCqffoeaZjy30nvGECoiPVPRaxRn38ENQ==    2\n",
       "                                                                                           ..\n",
       "4KUS30F2Hg5WR1l4L01b2HVPnt+MuJ8bejvCWAZqaYddZTPISKDNOQXWxMhZA2JFNFpB2tQ9wKl5MbQ9IdzlVg==    1\n",
       "kih/VqqwU0ISzE/h5B+C4txTcndZtvJZiNtO7uMHboIkVp2fbVFQLo/xF/NFibpyqwzmhSdv2H+fw1AcDtGAFw==    1\n",
       "FhmJX1OX8e/MGi7QRnWUcni32QG9X+aBng7DdgavGWWZuJvtJEDljDwiAK8rqAebCGYx44TjyCOA8Qp2A5tfTA==    1\n",
       "oE5ZeoejrQhdsWmEcu4Yp2DN/1NfYIZpFVtbcE/nEonitDOIhAWc5CcQUecZJss+elyju6clMUQbjAsT93KEvw==    1\n",
       "PwryUU/sLkHNbCBRWnW1hKUs/sOzSiuyb0YP3RhFKkHr7TirBRCET1srBkHmdTa+BWky9h9gxkmqYX4CuU43Tw==    1\n",
       "Length: 4477, dtype: int64"
      ]
     },
     "execution_count": 110,
     "metadata": {},
     "output_type": "execute_result"
    }
   ],
   "source": [
    "count_series = pd.Series(count_dict)\n",
    "count_series.sort_values(ascending=False)"
   ]
  },
  {
   "cell_type": "code",
   "execution_count": null,
   "metadata": {},
   "outputs": [
    {
     "data": {
      "image/png": "[encoded data removed]",
      "text/plain": [
       "<Figure size 432x288 with 1 Axes>"
      ]
     },
     "metadata": {
      "needs_background": "light"
     },
     "output_type": "display_data"
    },
    {
     "data": {
      "text/plain": [
       "0           0.002\n",
       "1         305.200\n",
       "2         301.655\n",
       "3         309.511\n",
       "4         308.845\n",
       "           ...   \n",
       "961747    767.064\n",
       "961748     82.404\n",
       "961749     28.805\n",
       "961750    129.946\n",
       "961751    163.694\n",
       "Length: 961752, dtype: float64"
      ]
     },
     "execution_count": 111,
     "metadata": {},
     "output_type": "execute_result"
    }
   ],
   "source": [
    "thing1\n",
    "things = pd.Series(thing1)\n",
    "things.sort_values()\n",
    "plt.hist(things)\n",
    "plt.show()\n",
    "things"
   ]
  },
  {
   "cell_type": "code",
   "execution_count": null,
   "metadata": {},
   "outputs": [],
   "source": []
  }
 ],
 "metadata": {
  "interpreter": {
   "hash": "89de5ec334dfe115ce73491219555bfbfca3ffdc9cd8a93ff8db63b215712dbe"
  },
  "kernelspec": {
   "display_name": "Python 3.10.1 ('env': venv)",
   "language": "python",
   "name": "python3"
  },
  "language_info": {
   "codemirror_mode": {
    "name": "ipython",
    "version": 3
   },
   "file_extension": ".py",
   "mimetype": "text/x-python",
   "name": "python",
   "nbconvert_exporter": "python",
   "pygments_lexer": "ipython3",
   "version": "3.10.1"
  },
  "orig_nbformat": 4
 },
 "nbformat": 4,
 "nbformat_minor": 2
}
