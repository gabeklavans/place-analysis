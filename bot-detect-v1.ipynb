{
 "cells": [
  {
   "cell_type": "code",
   "execution_count": 1,
   "metadata": {},
   "outputs": [],
   "source": [
    "import numpy as np\n",
    "import pandas as pd\n",
    "import dask.dataframe as dd\n",
    "\n",
    "import matplotlib.pyplot as plt\n",
    "\n",
    "import json"
   ]
  },
  {
   "cell_type": "code",
   "execution_count": 2,
   "metadata": {},
   "outputs": [
    {
     "data": {
      "text/html": [
       "<div><strong>Dask DataFrame Structure:</strong></div>\n",
       "<div>\n",
       "<style scoped>\n",
       "    .dataframe tbody tr th:only-of-type {\n",
       "        vertical-align: middle;\n",
       "    }\n",
       "\n",
       "    .dataframe tbody tr th {\n",
       "        vertical-align: top;\n",
       "    }\n",
       "\n",
       "    .dataframe thead th {\n",
       "        text-align: right;\n",
       "    }\n",
       "</style>\n",
       "<table border=\"1\" class=\"dataframe\">\n",
       "  <thead>\n",
       "    <tr style=\"text-align: right;\">\n",
       "      <th></th>\n",
       "      <th>timestamp</th>\n",
       "      <th>user_id</th>\n",
       "      <th>pixel_color</th>\n",
       "      <th>coordinate</th>\n",
       "    </tr>\n",
       "    <tr>\n",
       "      <th>npartitions=54</th>\n",
       "      <th></th>\n",
       "      <th></th>\n",
       "      <th></th>\n",
       "      <th></th>\n",
       "    </tr>\n",
       "  </thead>\n",
       "  <tbody>\n",
       "    <tr>\n",
       "      <th></th>\n",
       "      <td>object</td>\n",
       "      <td>object</td>\n",
       "      <td>object</td>\n",
       "      <td>object</td>\n",
       "    </tr>\n",
       "    <tr>\n",
       "      <th></th>\n",
       "      <td>...</td>\n",
       "      <td>...</td>\n",
       "      <td>...</td>\n",
       "      <td>...</td>\n",
       "    </tr>\n",
       "    <tr>\n",
       "      <th>...</th>\n",
       "      <td>...</td>\n",
       "      <td>...</td>\n",
       "      <td>...</td>\n",
       "      <td>...</td>\n",
       "    </tr>\n",
       "    <tr>\n",
       "      <th></th>\n",
       "      <td>...</td>\n",
       "      <td>...</td>\n",
       "      <td>...</td>\n",
       "      <td>...</td>\n",
       "    </tr>\n",
       "    <tr>\n",
       "      <th></th>\n",
       "      <td>...</td>\n",
       "      <td>...</td>\n",
       "      <td>...</td>\n",
       "      <td>...</td>\n",
       "    </tr>\n",
       "  </tbody>\n",
       "</table>\n",
       "</div>\n",
       "<div>Dask Name: read-csv, 54 tasks</div>"
      ],
      "text/plain": [
       "Dask DataFrame Structure:\n",
       "               timestamp user_id pixel_color coordinate\n",
       "npartitions=54                                         \n",
       "                  object  object      object     object\n",
       "                     ...     ...         ...        ...\n",
       "...                  ...     ...         ...        ...\n",
       "                     ...     ...         ...        ...\n",
       "                     ...     ...         ...        ...\n",
       "Dask Name: read-csv, 54 tasks"
      ]
     },
     "execution_count": 2,
     "metadata": {},
     "output_type": "execute_result"
    }
   ],
   "source": [
    "chunksize = 10 ** 4\n",
    "filepath = \"data/2022_place_history_sorted.csv\"\n",
    "\n",
    "ddf = dd.read_csv(filepath)\n",
    "ddf"
   ]
  },
  {
   "cell_type": "code",
   "execution_count": 24,
   "metadata": {},
   "outputs": [
    {
     "name": "stdout",
     "output_type": "stream",
     "text": [
      "<class 'pandas.core.frame.DataFrame'>\n",
      "RangeIndex: 2963517 entries, 0 to 2963516\n",
      "Data columns (total 4 columns):\n",
      " #   Column       Dtype              \n",
      "---  ------       -----              \n",
      " 0   timestamp    datetime64[ns, UTC]\n",
      " 1   user_id      object             \n",
      " 2   pixel_color  object             \n",
      " 3   coordinate   object             \n",
      "dtypes: datetime64[ns, UTC](1), object(3)\n",
      "memory usage: 90.4+ MB\n"
     ]
    }
   ],
   "source": [
    "part = ddf.partitions[-7]\n",
    "part[\"timestamp\"] = dd.to_datetime(part[\"timestamp\"])\n",
    "# part.sort_values(by=[\"timestamp\"], ascending=True)\n",
    "part.compute().info()"
   ]
  },
  {
   "cell_type": "code",
   "execution_count": 4,
   "metadata": {},
   "outputs": [],
   "source": [
    "timestamp_idx = 1\n",
    "user_id_idx = 2\n",
    "\n",
    "threshold = 0.2 # in seconds\n",
    "\n",
    "count_dict = {}\n",
    "variance_dict = {}\n",
    "time_since_dict = {}\n",
    "last_pixel_time_dict = {}\n",
    "\n",
    "for row in part.itertuples():\n",
    "    user_id = row[user_id_idx]\n",
    "    if user_id in last_pixel_time_dict.keys():\n",
    "        if user_id in time_since_dict.keys():\n",
    "            time_since_last_pixel = row[timestamp_idx] - last_pixel_time_dict[row[user_id_idx]]\n",
    "            variance = abs((time_since_dict[user_id] - time_since_last_pixel).total_seconds())\n",
    "            if variance < threshold:\n",
    "                if user_id not in count_dict.keys():\n",
    "                    count_dict[user_id] = 0\n",
    "                count_dict[user_id] += 1\n",
    "            else:\n",
    "                time_since_dict[user_id] = time_since_last_pixel\n",
    "        else:\n",
    "            time_since_dict[user_id] = row[timestamp_idx] - last_pixel_time_dict[user_id]\n",
    "    last_pixel_time_dict[user_id] = row[timestamp_idx]\n"
   ]
  },
  {
   "cell_type": "code",
   "execution_count": 5,
   "metadata": {},
   "outputs": [],
   "source": [
    "timestamp_idx = 1\n",
    "user_id_idx = 2\n",
    "\n",
    "threshold = 0.5 # in seconds\n",
    "\n",
    "count_dict = {}\n",
    "variance_dict = {}\n",
    "time_since_dict = {}\n",
    "last_pixel_time_dict = {}\n",
    "\n",
    "for partit in ddf.partitions:\n",
    "    partit[\"timestamp\"] = dd.to_datetime(partit[\"timestamp\"])\n",
    "    for row in partit.itertuples():\n",
    "        user_id = row[user_id_idx]\n",
    "        if user_id in last_pixel_time_dict.keys():\n",
    "            if user_id in time_since_dict.keys():\n",
    "                time_since_last_pixel = row[timestamp_idx] - last_pixel_time_dict[row[user_id_idx]]\n",
    "                variance = abs((time_since_dict[user_id] - time_since_last_pixel).total_seconds())\n",
    "                if variance < threshold:\n",
    "                    if user_id not in count_dict.keys():\n",
    "                        count_dict[user_id] = 0\n",
    "                    count_dict[user_id] += 1\n",
    "                else:\n",
    "                    time_since_dict[user_id] = time_since_last_pixel\n",
    "            else:\n",
    "                time_since_dict[user_id] = row[timestamp_idx] - last_pixel_time_dict[user_id]\n",
    "        last_pixel_time_dict[user_id] = row[timestamp_idx]\n"
   ]
  },
  {
   "cell_type": "code",
   "execution_count": 6,
   "metadata": {},
   "outputs": [],
   "source": [
    "with open('counts.txt', 'w') as convert_file:\n",
    "    convert_file.write(json.dumps(count_dict))"
   ]
  },
  {
   "cell_type": "code",
   "execution_count": 7,
   "metadata": {},
   "outputs": [
    {
     "data": {
      "text/plain": [
       "fKNBueWS8c3w3vtqClU1+1QRi4qjHXOmX5aWta7QvKQj5aB6evQwiq2s8Lg6GV9rZcKjENT7+mNQE5AJXJGSBQ==    289\n",
       "RAoIasI1HzzXLmG1c1izIOtKL9tjdd6oaGlS1tWID8EuRpKolxKzLzIgSGRpzl37FucfTCEKh2FlablcA7stAA==    287\n",
       "TwvGv5iDGt6GKM94Y4L49H1G01PxJsJaOMdXxxAnL8vMP+5aB5pUNkN8GQ2wJ6xOJDep5PVC4rAzYN/b++GuOQ==    280\n",
       "qqjD4zYwKS6FrxRkJfHKmxDEtFMEJ3ETGYYyMyNEE+2i9ul3WiqZ2glOks749PNfRdIeMbjz08yVEGEiVGs7gw==    276\n",
       "/yEGU9BC+pEA3+t1oK4yy3wyQ7N/HN5/NwlLcyjuPa3Wrfp144xDKwreATH2SIMcGeiRrFWlYDS1H6qIziVuTQ==    276\n",
       "                                                                                           ... \n",
       "Fp7EFy5mIzwUfkVGEXj5/cP00D+2NnvLM9xzx6jXeDmPtJXB3FgZ5rkjd3JkEFzZHhD7rkZHa4duA2vW+vPVYg==      1\n",
       "dxnxmMxDGnXogWdbY1PJCPCFAqO2yTVn9HxZL9teeVzYQThdP6vr8xruaoSoqNSPAyRmD+Rlo2RaSNnH8lbNFQ==      1\n",
       "boQmT3+/Z7B6vMsXy/+5D0MQDFMCQ6++mjZ1OGjZfMTcSVnvvbXYzeHAbKYA6RWiKnuYCwWr+FCeQQbT5EyzBg==      1\n",
       "GL1m/kwvAuu6ya0qkvdo69GBmgufxTe6T+D8EhOeJo6BK3IPrLCzV9uHvqkQd+3myYOTQ9Wnds6LY+6z2HItlQ==      1\n",
       "aqNS84ZAT6qEHewuAE9NOI1GxuuL3b6S2kI7dHmbP5U948XoIaW1MJcVjfGNE/H4LKh+UCaCCeCGlL2jV6Zxlg==      1\n",
       "Length: 412378, dtype: int64"
      ]
     },
     "execution_count": 7,
     "metadata": {},
     "output_type": "execute_result"
    }
   ],
   "source": [
    "count_series = pd.Series(count_dict)\n",
    "count_series.sort_values(ascending=False)"
   ]
  },
  {
   "cell_type": "code",
   "execution_count": 10,
   "metadata": {},
   "outputs": [],
   "source": [
    "with open('user_ids.txt', 'w') as outfile:\n",
    "    json.dump(list(count_dict.keys()), outfile)"
   ]
  },
  {
   "cell_type": "code",
   "execution_count": null,
   "metadata": {},
   "outputs": [
    {
     "data": {
      "text/plain": [
       "(array([4.08451e+05, 2.95600e+03, 6.13000e+02, 2.00000e+02, 7.50000e+01,\n",
       "        3.50000e+01, 2.70000e+01, 1.30000e+01, 3.00000e+00, 5.00000e+00]),\n",
       " array([  1. ,  29.8,  58.6,  87.4, 116.2, 145. , 173.8, 202.6, 231.4,\n",
       "        260.2, 289. ]),\n",
       " <BarContainer object of 10 artists>)"
      ]
     },
     "metadata": {},
     "output_type": "display_data"
    },
    {
     "data": {
      "image/png": "[encoded data removed]",
      "text/plain": [
       "<Figure size 432x288 with 1 Axes>"
      ]
     },
     "metadata": {},
     "output_type": "display_data"
    }
   ],
   "source": [
    "plt.hist(count_series)"
   ]
  },
  {
   "cell_type": "code",
   "execution_count": 13,
   "metadata": {},
   "outputs": [
    {
     "data": {
      "text/plain": [
       "(array([1.0745e+04, 1.7550e+03, 4.4200e+02, 1.4800e+02, 6.3000e+01,\n",
       "        3.0000e+01, 2.5000e+01, 1.2000e+01, 3.0000e+00, 5.0000e+00]),\n",
       " array([ 11. ,  38.8,  66.6,  94.4, 122.2, 150. , 177.8, 205.6, 233.4,\n",
       "        261.2, 289. ]),\n",
       " <BarContainer object of 10 artists>)"
      ]
     },
     "execution_count": 13,
     "metadata": {},
     "output_type": "execute_result"
    },
    {
     "data": {
      "image/png": "[encoded data removed]",
      "text/plain": [
       "<Figure size 432x288 with 1 Axes>"
      ]
     },
     "metadata": {
      "needs_background": "light"
     },
     "output_type": "display_data"
    }
   ],
   "source": [
    "plt.hist(count_series.where(count_series > 10))"
   ]
  },
  {
   "cell_type": "code",
   "execution_count": 19,
   "metadata": {},
   "outputs": [
    {
     "data": {
      "text/plain": [
       "u7azOzo3yfh2Ij/tMO/as2zahtkxiMZYiueyI3J8+KzIVhDtDAlrahJh8XWY9emmKovUAvu+9+rJ0VLAKMJx6A==    16\n",
       "UggFgLe2miQxn3F5NkPUr4kwLYzM3HuFCjqEWiWDvp3md0esfmLdVQ1dI6GoGXrltihBTCu7NRBEAcYrF4NClQ==    21\n",
       "+Be2vrj9mt/552O7uM87yBzivHrAl3lOH94+MfGxbpZLgqOxNKjy+CGWlrvKT+gdJMAgR3fcqZcnFNLV29Qhrg==     9\n",
       "yGauWjSJ+9wlzzDAdP8mCo7Xl1yd8YJw7Ndamqs03uOImG0rKdFzskE2wMiVUIdyrzxT3x1Bi6PKUmQlcxZTYw==     3\n",
       "c+MqGVbTiVu98+Btv207lk4S9d21OKmcnb1YfBfWUKzGMewASGdUaSZcOe53vvHWHtXXlrmfTypll/K2PkV4+g==    50\n",
       "                                                                                            ..\n",
       "D94oF8CMRYKCIAqd9IHTVMV1S1UzJeLas0OuH2BScJ3VqP47jaG63pV6GBlD8GusC62L2z3wkg1Oi2wgN0SZfA==     3\n",
       "/76Bx8XstJom5EurmZliFWLQ/V2FdRXiFQn1XxBhJ+rRIKl4r4xZocT6/kfljmI3XNHYPPAnp7xgd6qthca4LA==     3\n",
       "YpH9dWFKjeGRWY8vd0iMdp88MYVE/wGZmY9a/H0USAsmNqxQjC7SVf1URqipRb3m3BXaYg2sOYKlfDpIKnThGA==     3\n",
       "mj69r6as/b2uTriE4sUuumRLq+adU8ovpP2oPOOOeMJ+yTzxDaLkBCzXya6dJFMIcjN8AUN2v3DM++Z3KTfP5A==     3\n",
       "gCaHNEomtV3JVNB5aUorDxN1yCIFBHd5/Gf/6tGY32y16n/3LHGpRziuYQJh6jhDLKC0Unu+P0xYrZkRVxKkWQ==     3\n",
       "Length: 60635, dtype: int64"
      ]
     },
     "execution_count": 19,
     "metadata": {},
     "output_type": "execute_result"
    }
   ],
   "source": [
    "count_series[count_series > 2]"
   ]
  },
  {
   "cell_type": "code",
   "execution_count": 21,
   "metadata": {},
   "outputs": [],
   "source": [
    "with open('counts_greater_than_2.txt', 'w') as convert_file:\n",
    "    convert_file.write(json.dumps(count_series[count_series > 2].to_dict()))"
   ]
  },
  {
   "cell_type": "code",
   "execution_count": 22,
   "metadata": {},
   "outputs": [],
   "source": [
    "with open('user_ids_greater_than_2.txt', 'w') as outfile:\n",
    "    json.dump(list(count_series[count_series > 2].to_dict().keys()), outfile)"
   ]
  },
  {
   "cell_type": "code",
   "execution_count": null,
   "metadata": {},
   "outputs": [],
   "source": []
  }
 ],
 "metadata": {
  "interpreter": {
   "hash": "89de5ec334dfe115ce73491219555bfbfca3ffdc9cd8a93ff8db63b215712dbe"
  },
  "kernelspec": {
   "display_name": "Python 3.10.1 ('env': venv)",
   "language": "python",
   "name": "python3"
  },
  "language_info": {
   "codemirror_mode": {
    "name": "ipython",
    "version": 3
   },
   "file_extension": ".py",
   "mimetype": "text/x-python",
   "name": "python",
   "nbconvert_exporter": "python",
   "pygments_lexer": "ipython3",
   "version": "3.10.1"
  },
  "orig_nbformat": 4
 },
 "nbformat": 4,
 "nbformat_minor": 2
}
